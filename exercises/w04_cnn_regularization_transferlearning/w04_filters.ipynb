{
 "nbformat": 4,
 "nbformat_minor": 0,
 "metadata": {
  "colab": {
   "name": "PRACTISE_1_filters.ipynb",
   "provenance": [],
   "collapsed_sections": []
  },
  "kernelspec": {
   "display_name": "Python 3",
   "name": "python3"
  },
  "language_info": {
   "name": "python"
  },
  "accelerator": "GPU"
 },
 "cells": [
  {
   "cell_type": "markdown",
   "metadata": {
    "id": "MMFjuZZUVS_b",
    "pycharm": {
     "name": "#%% md\n"
    }
   },
   "source": [
    "# Exercise 4.1: Filters in CNNs\n",
    "\n",
    "Advanced Machine Learning for KCS\n",
    "\n",
    "by Stefan Heinrich, Stella Grasshof, Laura Weihl\n",
    "with material by Kevin Murphy\n",
    "\n",
    "All info and static material: https://learnit.itu.dk/course/view.php?id=3021295\n",
    "\n",
    "-------------------------------------------------------------------------------"
   ]
  },
  {
   "cell_type": "markdown",
   "source": [
    "## Demonstration of some Filters as used in Convolutional Neural Networks\n",
    "\n",
    "*Hint: We use pytorch for these practical examples. Read up about the concepts of tensor data structures and graph computation in the tutorials and the API that we have introduces last week, if needed!*"
   ],
   "metadata": {
    "collapsed": false,
    "pycharm": {
     "name": "#%% md\n"
    }
   }
  },
  {
   "cell_type": "code",
   "execution_count": null,
   "outputs": [],
   "source": [
    "import numpy as np\n",
    "import pandas as pd\n",
    "import matplotlib.pyplot as plt\n",
    "from PIL import Image\n",
    "# pyTorch, a powerful machine learning framework\n",
    "import torch\n",
    "from torch import nn\n",
    "from torch.nn import functional as F"
   ],
   "metadata": {
    "pycharm": {
     "name": "#%%\n"
    },
    "id": "SyS1TlxI_l8I"
   }
  },
  {
   "cell_type": "code",
   "execution_count": null,
   "outputs": [],
   "source": [
    "# Helper method\n",
    "def tensor_to_image(data: torch.Tensor):\n",
    "  img = plt.imshow(data.numpy())\n",
    "  img.set_cmap('gray')\n",
    "  plt.axis('on')\n",
    "  plt.xticks([])\n",
    "  plt.yticks([])"
   ],
   "metadata": {
    "pycharm": {
     "name": "#%%\n"
    },
    "id": "Pd-Y_uFd_l8L"
   }
  },
  {
   "cell_type": "markdown",
   "source": [
    "### Convolution & filters"
   ],
   "metadata": {
    "collapsed": false,
    "pycharm": {
     "name": "#%% md\n"
    }
   }
  },
  {
   "cell_type": "code",
   "metadata": {
    "id": "i9oPv1Htd2Ex",
    "pycharm": {
     "name": "#%%\n"
    }
   },
   "source": [
    "def conv2d(X, K):\n",
    "    \"\"\"Compute 2D cross-correlation.\"\"\"\n",
    "    h, w = K.shape\n",
    "    Y = torch.zeros((X.shape[0] - h + 1, X.shape[1] - w + 1))\n",
    "    for i in range(Y.shape[0]):\n",
    "        for j in range(Y.shape[1]):\n",
    "            Y[i, j] = (X[i:i + h, j:j + w] * K).sum()\n",
    "    return Y"
   ],
   "execution_count": null,
   "outputs": []
  },
  {
   "cell_type": "code",
   "metadata": {
    "colab": {
     "base_uri": "https://localhost:8080/",
     "height": 252
    },
    "id": "zaVHw_MNd9X0",
    "outputId": "6db5eff0-c628-4883-c71e-8905cdc6e414",
    "pycharm": {
     "name": "#%%\n"
    }
   },
   "source": [
    "X = torch.tensor([[0.0, 1.0, 2.0], [3.0, 4.0, 5.0], [6.0, 7.0, 8.0]])\n",
    "K = torch.tensor([[0.0, 1.0], [2.0, 3.0]])\n",
    "filtered = conv2d(X, K)\n",
    "\n",
    "# plt.imshow(filtered.numpy(), cmap='gray')\n",
    "tensor_to_image(filtered)"
   ],
   "execution_count": null,
   "outputs": []
  },
  {
   "cell_type": "code",
   "metadata": {
    "colab": {
     "base_uri": "https://localhost:8080/",
     "height": 393
    },
    "id": "nabPSrVDfRkN",
    "outputId": "472729e0-3d2b-4b74-b1cc-bc5da81ca1d1",
    "pycharm": {
     "name": "#%%\n"
    }
   },
   "source": [
    "X = torch.ones((6, 8))\n",
    "X[:, 2:6] = 0\n",
    "tensor_to_image(X)\n",
    "print(pd.DataFrame(X.numpy()))\n",
    "print(f\" shape -> {X.shape}\")"
   ],
   "execution_count": null,
   "outputs": []
  },
  {
   "cell_type": "code",
   "metadata": {
    "colab": {
     "base_uri": "https://localhost:8080/",
     "height": 322
    },
    "id": "yhGd5b1_fd_T",
    "outputId": "c235a41f-186c-48d7-da16-d8923e1edea9",
    "pycharm": {
     "name": "#%%\n"
    }
   },
   "source": [
    "kernel = torch.tensor([[1.0, -1.0], [1.0, -1.0]])\n",
    "tensor_to_image(kernel)\n",
    "print(pd.DataFrame(kernel.numpy()))\n",
    "print(f\" shape -> {kernel.shape}\")"
   ],
   "execution_count": null,
   "outputs": []
  },
  {
   "cell_type": "code",
   "metadata": {
    "colab": {
     "base_uri": "https://localhost:8080/",
     "height": 375
    },
    "id": "8IzvmVwqgxHQ",
    "outputId": "440bc5b7-b364-4d74-cd52-4973c85a9053",
    "pycharm": {
     "name": "#%%\n"
    }
   },
   "source": [
    "x_filtered = conv2d(X, kernel)\n",
    "tensor_to_image(x_filtered)\n",
    "print(pd.DataFrame(x_filtered.numpy()))\n",
    "print(f\" shape -> {x_filtered.shape}\")"
   ],
   "execution_count": null,
   "outputs": []
  },
  {
   "cell_type": "code",
   "metadata": {
    "colab": {
     "base_uri": "https://localhost:8080/",
     "height": 269
    },
    "id": "qjGIS9r3i7BV",
    "outputId": "ce2178df-5477-4215-e23e-537b657214fc",
    "pycharm": {
     "name": "#%%\n"
    }
   },
   "source": [
    "im = np.array(Image.open('bike.jpg').convert('L'))\n",
    "im_tens = torch.Tensor(im)\n",
    "tensor_to_image(im_tens)\n",
    "print(f\" shape -> {im_tens.shape}\")\n"
   ],
   "execution_count": null,
   "outputs": []
  },
  {
   "cell_type": "markdown",
   "metadata": {
    "id": "atTthNa_AMq7",
    "pycharm": {
     "name": "#%% md\n"
    }
   },
   "source": [
    "#### Apply our vertical and horizontal kernels and convolve them through the image.\n"
   ]
  },
  {
   "cell_type": "code",
   "metadata": {
    "id": "WuwOMFZmli6e",
    "pycharm": {
     "name": "#%%\n"
    }
   },
   "source": [
    "horizontal_res = conv2d(im_tens, kernel)\n",
    "vertical_res = conv2d(im_tens, kernel.t())"
   ],
   "execution_count": null,
   "outputs": []
  },
  {
   "cell_type": "code",
   "metadata": {
    "colab": {
     "base_uri": "https://localhost:8080/",
     "height": 269
    },
    "id": "6iL_ooZDk3cR",
    "outputId": "2a2223a0-1904-4740-e0b4-b2b4ed8d864e",
    "pycharm": {
     "name": "#%%\n"
    }
   },
   "source": [
    "print(f\"shape -> {vertical_res.shape}\")\n",
    "tensor_to_image(horizontal_res.abs())"
   ],
   "execution_count": null,
   "outputs": []
  },
  {
   "cell_type": "code",
   "metadata": {
    "colab": {
     "base_uri": "https://localhost:8080/",
     "height": 269
    },
    "id": "Y_0UvE40o4S1",
    "outputId": "720c09f4-0a05-4616-85eb-a927b757c583",
    "pycharm": {
     "name": "#%%\n"
    }
   },
   "source": [
    "tensor_to_image(vertical_res.abs())\n",
    "print(f\"shape -> {vertical_res.shape}\")"
   ],
   "execution_count": null,
   "outputs": []
  },
  {
   "cell_type": "code",
   "metadata": {
    "colab": {
     "base_uri": "https://localhost:8080/",
     "height": 269
    },
    "id": "k7EyOkH5o7wN",
    "outputId": "37e71869-ad96-4907-bebd-415620deb97b",
    "pycharm": {
     "name": "#%%\n"
    }
   },
   "source": [
    "c = (horizontal_res ** 2 + vertical_res ** 2) ** 0.5\n",
    "tensor_to_image(c)\n",
    "print(f\"shape -> {c.shape}\")"
   ],
   "execution_count": null,
   "outputs": []
  },
  {
   "cell_type": "code",
   "metadata": {
    "id": "7PtWEHi2mM-p",
    "pycharm": {
     "name": "#%%\n"
    }
   },
   "source": [
    "sobel_hor = torch.Tensor([[-1, 0, 1], [-2, 0, 2], [-1, 0, 1]])\n",
    "sobel_ver = sobel_hor.t()"
   ],
   "execution_count": null,
   "outputs": []
  },
  {
   "cell_type": "code",
   "metadata": {
    "colab": {
     "base_uri": "https://localhost:8080/",
     "height": 252
    },
    "id": "xyenjjLimlra",
    "outputId": "f3c82e03-88ee-468e-90b0-0a486eda3c54",
    "pycharm": {
     "name": "#%%\n"
    }
   },
   "source": [
    "sob_engine_h = conv2d(im_tens, sobel_hor)\n",
    "sob_engine_v = conv2d(im_tens, sobel_ver)\n",
    "\n",
    "total_sobel_img = (sob_engine_h ** 2 + sob_engine_v ** 2) ** 0.5\n",
    "tensor_to_image(total_sobel_img)"
   ],
   "execution_count": null,
   "outputs": []
  },
  {
   "cell_type": "code",
   "metadata": {
    "colab": {
     "base_uri": "https://localhost:8080/",
     "height": 252
    },
    "id": "tnhS76-KlBIL",
    "outputId": "9ea84516-f111-4c76-9e4e-e04d71cc2893",
    "pycharm": {
     "name": "#%%\n"
    }
   },
   "source": [
    "# Sobel operator gradient directions\n",
    "total_sobel_grad = torch.atan2(sob_engine_v, sob_engine_h)\n",
    "tensor_to_image(total_sobel_grad)"
   ],
   "execution_count": null,
   "outputs": []
  },
  {
   "cell_type": "code",
   "metadata": {
    "id": "WGwz7dSFqEkQ",
    "pycharm": {
     "name": "#%%\n"
    }
   },
   "source": [
    "class Conv2D(nn.Module):\n",
    "    def __init__(self, kernel_size):\n",
    "        super().__init__()\n",
    "        # Kernel values\n",
    "        self.weight = nn.Parameter(torch.rand(kernel_size))\n",
    "        # Bias\n",
    "        self.bias = nn.Parameter(torch.zeros(1))\n",
    "\n",
    "    def forward(self, x):\n",
    "        return conv2d(x, self.weight) + self.bias"
   ],
   "execution_count": null,
   "outputs": []
  },
  {
   "cell_type": "code",
   "metadata": {
    "colab": {
     "base_uri": "https://localhost:8080/",
     "height": 252
    },
    "id": "pKBJx21Atsiv",
    "outputId": "566aa395-e5a9-4c7b-ece2-fb683f7432a1",
    "pycharm": {
     "name": "#%%\n"
    }
   },
   "source": [
    "circle_im = torch.Tensor(np.array(Image.open('circle.jpg').convert('L')))\n",
    "tensor_to_image(circle_im)"
   ],
   "execution_count": null,
   "outputs": []
  },
  {
   "cell_type": "code",
   "metadata": {
    "colab": {
     "base_uri": "https://localhost:8080/",
     "height": 252
    },
    "id": "hGJaG8wvuEm5",
    "outputId": "237f8202-954c-431c-ab9a-846110fdd4ce",
    "pycharm": {
     "name": "#%%\n"
    }
   },
   "source": [
    "filtered_circle = conv2d(circle_im, kernel)\n",
    "tensor_to_image(filtered_circle.abs())"
   ],
   "execution_count": null,
   "outputs": []
  },
  {
   "cell_type": "code",
   "metadata": {
    "colab": {
     "base_uri": "https://localhost:8080/",
     "height": 252
    },
    "id": "yeKJ3c4Dbwzv",
    "outputId": "4262d08b-f87d-41c8-a65f-b411fbd8b8be",
    "pycharm": {
     "name": "#%%\n"
    }
   },
   "source": [
    "filtered_circle_t = conv2d(circle_im, kernel.t())\n",
    "tensor_to_image(filtered_circle_t.abs())"
   ],
   "execution_count": null,
   "outputs": []
  },
  {
   "cell_type": "code",
   "metadata": {
    "colab": {
     "base_uri": "https://localhost:8080/",
     "height": 252
    },
    "id": "s0SIBiGIidZ8",
    "outputId": "4fa3600e-c9fc-48aa-99d9-c29ecba0b03e",
    "pycharm": {
     "name": "#%%\n"
    }
   },
   "source": [
    "tensor_to_image((filtered_circle_t ** 2 + filtered_circle ** 2) ** 0.5)"
   ],
   "execution_count": null,
   "outputs": []
  },
  {
   "cell_type": "code",
   "metadata": {
    "colab": {
     "base_uri": "https://localhost:8080/"
    },
    "id": "JgnGU3d3qNri",
    "outputId": "afa8d01c-5878-48e6-e32c-00156946afb3",
    "pycharm": {
     "name": "#%%\n"
    }
   },
   "source": [
    "conv_nn = Conv2D((2,2))\n",
    "\n",
    "# Imput image from the previous example\n",
    "X = torch.ones((6, 8))\n",
    "X[:, 2:6] = 0\n",
    "\n",
    "# Predesigned kernel from the previous example\n",
    "Y = conv2d(X, kernel)\n",
    "\n",
    "lr = 3e-2  # Learning rate\n",
    "\n",
    "for i in range(300):\n",
    "    Y_hat = conv_nn(X)\n",
    "    l = (Y_hat - Y)**2\n",
    "    conv_nn.zero_grad()\n",
    "    l.mean().backward()\n",
    "    # Update the kernel\n",
    "    conv_nn.weight.data[:] -= lr * conv_nn.weight.grad\n",
    "    if (i + 1) % 20 == 0:\n",
    "        print(f'batch {i + 1}, loss {l.mean():.3f}')"
   ],
   "execution_count": null,
   "outputs": []
  },
  {
   "cell_type": "code",
   "metadata": {
    "colab": {
     "base_uri": "https://localhost:8080/"
    },
    "id": "_stUpLbps4bT",
    "outputId": "4ed94a29-77dd-4bc4-b2d8-9befd1526e7c",
    "pycharm": {
     "name": "#%%\n"
    }
   },
   "source": [
    "conv_nn.weight"
   ],
   "execution_count": null,
   "outputs": []
  },
  {
   "cell_type": "markdown",
   "metadata": {
    "id": "OAHPAPshitPo",
    "pycharm": {
     "name": "#%% md\n"
    }
   },
   "source": [
    "### Padding"
   ]
  },
  {
   "cell_type": "code",
   "metadata": {
    "colab": {
     "base_uri": "https://localhost:8080/",
     "height": 269
    },
    "id": "fbpzcFD2l_y6",
    "outputId": "8847bb12-6f77-49d5-ff74-1e83266895e6",
    "pycharm": {
     "name": "#%%\n"
    }
   },
   "source": [
    "circle_im = torch.Tensor(np.array(Image.open('circle.jpg').convert('L')))\n",
    "print(f\"shape -> {circle_im.shape}\")\n",
    "tensor_to_image(circle_im)"
   ],
   "execution_count": null,
   "outputs": []
  },
  {
   "cell_type": "code",
   "metadata": {
    "colab": {
     "base_uri": "https://localhost:8080/",
     "height": 269
    },
    "id": "Xi2c8Aycmueu",
    "outputId": "c4e7fe6f-b6dc-42da-dbe8-935fa9a56ded",
    "pycharm": {
     "name": "#%%\n"
    }
   },
   "source": [
    "padded_circle_im = F.pad(circle_im, (1,1,1,1), value=1)\n",
    "print(f\"shape -> {padded_circle_im.shape}\")\n",
    "tensor_to_image(padded_circle_im)"
   ],
   "execution_count": null,
   "outputs": []
  },
  {
   "cell_type": "code",
   "metadata": {
    "colab": {
     "base_uri": "https://localhost:8080/",
     "height": 269
    },
    "id": "MpRQdlDmmPz7",
    "outputId": "9cd9cc0f-01d1-4482-9baa-c755e2ff189a",
    "pycharm": {
     "name": "#%%\n"
    }
   },
   "source": [
    "f_circle_im = conv2d(padded_circle_im, sobel_ver)\n",
    "print(f\"shape -> {f_circle_im.shape}\")\n",
    "tensor_to_image(f_circle_im.abs())"
   ],
   "execution_count": null,
   "outputs": []
  }
 ]
}