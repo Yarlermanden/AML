{
 "cells": [
  {
   "cell_type": "markdown",
   "metadata": {
    "collapsed": false,
    "pycharm": {
     "name": "#%% md\n"
    }
   },
   "source": [
    "# Deep Reinforcement Learning\n",
    "In this lab we will implement and train an agent that uses deep learning to play balance the stick in `CartPole-v1`."
   ]
  },
  {
   "cell_type": "markdown",
   "metadata": {
    "collapsed": false,
    "pycharm": {
     "name": "#%% md\n"
    }
   },
   "source": [
    "## Setup\n",
    "----\n",
    "We import useful packages: `gym`, `torch` stuff, etc.."
   ]
  },
  {
   "cell_type": "markdown",
   "metadata": {
    "collapsed": false,
    "pycharm": {
     "name": "#%% md\n"
    }
   },
   "source": [
    "Imports:"
   ]
  },
  {
   "cell_type": "code",
   "execution_count": 1,
   "metadata": {
    "collapsed": false,
    "pycharm": {
     "name": "#%%\n"
    }
   },
   "outputs": [],
   "source": [
    "import gym\n",
    "\n",
    "import torch\n",
    "import torch.nn as nn\n",
    "import torch.optim as optim\n",
    "import torch.nn.functional as F\n",
    "\n",
    "from collections import deque  # for memory\n",
    "from tqdm import tqdm          # for progress bar"
   ]
  },
  {
   "cell_type": "markdown",
   "metadata": {
    "collapsed": false,
    "pycharm": {
     "name": "#%% md\n"
    }
   },
   "source": [
    "How the game looks (without our agent):"
   ]
  },
  {
   "cell_type": "code",
   "execution_count": 2,
   "metadata": {
    "collapsed": false,
    "pycharm": {
     "name": "#%%\n"
    }
   },
   "outputs": [
    {
     "name": "stderr",
     "output_type": "stream",
     "text": [
      "100%|██████████| 10/10 [00:04<00:00,  2.10it/s]\n"
     ]
    }
   ],
   "source": [
    "env = gym.make('CartPole-v1', render_mode='human')\n",
    "for _ in tqdm(range(10)):\n",
    "    state, _ = env.reset()\n",
    "    done = False\n",
    "    while not done:\n",
    "        action = env.action_space.sample()\n",
    "        next_state, reward, done, _, _ = env.step(action)\n",
    "env.close()"
   ]
  },
  {
   "cell_type": "markdown",
   "metadata": {
    "collapsed": false,
    "pycharm": {
     "name": "#%% md\n"
    }
   },
   "source": [
    "## DQN Algorithm\n",
    "-------------\n",
    "We train a policy that tries to maximize the discounted,\n",
    "cumulative reward\n",
    "$R_{t_0} = \\sum_{t=t_0}^{\\infty} \\gamma^{t - t_0} r_t$, where\n",
    "$R_{t_0}$ is *return*. The discount, $\\gamma$ is the discount, between $0$ and $1$\n",
    "\n",
    "\n",
    "Q-learning tries to find a function\n",
    "$Q^*: State \\times Action \\rightarrow \\mathbb{R}$, maximizes rewards:\n",
    "\n",
    "\\begin{align}\\pi^*(s) = \\arg\\!\\max_a \\ Q^*(s, a)\\end{align}\n",
    "\n",
    "However, we don't know $Q^*$. So, we use neural network as a approximators, we can simply create one and train it to resemble $Q^*$.\n",
    "\n",
    "For our training update rule, we'll use a fact that every $Q$\n",
    "function for some policy obeys the Bellman equation:\n",
    "\n",
    "\\begin{align}Q^{\\pi}(s, a) = r + \\gamma Q^{\\pi}(s', \\pi(s'))\\end{align}\n",
    "\n",
    "The difference between the two sides of the equality is known as the temporal difference error, $\\delta$:\n",
    "\n",
    "\\begin{align}\\delta = Q(s, a) - (r + \\gamma \\max_a Q(s', a))\\end{align}"
   ]
  },
  {
   "cell_type": "markdown",
   "metadata": {
    "collapsed": false,
    "pycharm": {
     "name": "#%% md\n"
    }
   },
   "source": [
    "### Model\n",
    "---\n",
    "Make a deep learning based policy model, that takes in a state and outputs an action.\n",
    "This model will be an attribute of the Agent we make next."
   ]
  },
  {
   "cell_type": "code",
   "execution_count": 3,
   "metadata": {
    "collapsed": false,
    "pycharm": {
     "name": "#%%\n"
    }
   },
   "outputs": [],
   "source": [
    "# class Model(nn.Module):\n",
    "#     def __init__(self, observation_size, action_size):\n",
    "#         super(Model, self).__init__()\n",
    "#         # initialise layers here\n",
    "#\n",
    "#     def forward(self, x):\n",
    "#         # send x through the network\n",
    "#         return x\n"
   ]
  },
  {
   "cell_type": "markdown",
   "metadata": {
    "collapsed": false,
    "pycharm": {
     "name": "#%% md\n"
    }
   },
   "source": [
    "### DQN Agent\n",
    "----\n",
    "We will be using experience replay memory for training our model.\n",
    "An Agent's memory is as important as its model, and will be another attribute of our agent.\n",
    "Other appropriate attributes are the hyperparameters (gamma, lr, etc.).\n",
    "Give the agent a replay method that trains on a batch from its memory.\n"
   ]
  },
  {
   "cell_type": "code",
   "execution_count": 4,
   "metadata": {
    "collapsed": false,
    "pycharm": {
     "name": "#%%\n"
    }
   },
   "outputs": [],
   "source": [
    "# class Agent:\n",
    "#     def __init__(self, observation_size, action_size):\n",
    "#         self.observation_size=observation_size\n",
    "#         self.action_size = action_size\n",
    "#         self.criterion = nn.MSELoss()\n",
    "#         self.optimizer = optim.Adam(self.model.parameters(), lr=1e-3)\n",
    "#         self.model = Model(observation_size, action_size)\n",
    "#         self.memory = None # memory that stores N most new transitions\n",
    "#         # good place to store hyperparameters as attributes\n",
    "#\n",
    "#     def remember(self, state, action, reward, next_state, done):\n",
    "#         # add to memory\n",
    "#\n",
    "#     def act(self, state):\n",
    "#         # return an action from the model\n",
    "#\n",
    "#     def replay(self, batch_size):\n",
    "#         # update model based on replay memory\n",
    "#         # you might want to make a self.train() helper method\n"
   ]
  },
  {
   "cell_type": "markdown",
   "metadata": {
    "collapsed": false,
    "pycharm": {
     "name": "#%% md\n"
    }
   },
   "source": [
    "### Main Training loop\n",
    "---\n",
    "Make a function that takes and environment and an agent, and runs through $n$ episodes.\n",
    "Remember to call that agent's replay function to learn from its past (once it has a past).\n"
   ]
  },
  {
   "cell_type": "code",
   "execution_count": 5,
   "metadata": {
    "collapsed": false,
    "pycharm": {
     "name": "#%%\n"
    }
   },
   "outputs": [],
   "source": [
    "# def train(env, agent, episodes=1000, batch_size=64):  # train for many games\n",
    "#     for _ in tqdm(range(episodes)):\n",
    "#         state, _ = env.reset()\n",
    "#         done = False\n",
    "#         while not done:\n",
    "#             # 1. make a move in game.\n",
    "#             # 2. have the agent remember stuff.\n",
    "#             # 3. update state\n",
    "#             # 4. if we have enough experiences in out memory, learn from a batch with replay.\n",
    "#             if len(agent.memory) >= batch_size:\n",
    "#                 agent.replay(batch_size)\n",
    "#     env.close()"
   ]
  },
  {
   "cell_type": "markdown",
   "metadata": {
    "collapsed": false,
    "pycharm": {
     "name": "#%% md\n"
    }
   },
   "source": [
    "### Putting it together\n",
    "---\n",
    "We train an agent on the environment:\n"
   ]
  },
  {
   "cell_type": "code",
   "execution_count": 6,
   "metadata": {
    "collapsed": false,
    "pycharm": {
     "name": "#%%\n"
    }
   },
   "outputs": [],
   "source": [
    "# env = gym.make('CartPole-v1')  # , render_mode='human')\n",
    "# agent = Agent(env.observation_space.shape[0], env.action_space.n)\n",
    "# train(env, agent)\n",
    "# # torch.save(agent.model.state_dict(), 'model.pth')"
   ]
  },
  {
   "cell_type": "markdown",
   "metadata": {},
   "source": [
    "### My own test"
   ]
  },
  {
   "cell_type": "code",
   "execution_count": 2,
   "metadata": {},
   "outputs": [],
   "source": [
    "#Model\n",
    "class Model(nn.Module):\n",
    "    def __init__(self, observation_space, action_space):\n",
    "        super(Model, self).__init__()\n",
    "        self.fc1 = nn.Linear(observation_space, 128)\n",
    "        self.fc2 = nn.Linear(128,128)\n",
    "        self.fc3 = nn.Linear(128, action_space)\n",
    "\n",
    "    def forward(self, x):\n",
    "        x = self.fc1(x)\n",
    "        x = self.fc2(x)\n",
    "        x = self.fc3(x)\n",
    "        return x"
   ]
  },
  {
   "cell_type": "code",
   "execution_count": 3,
   "metadata": {},
   "outputs": [],
   "source": [
    "#agent\n",
    "from collections import deque\n",
    "import numpy as np\n",
    "import random\n",
    "\n",
    "class Agent:\n",
    "    def __init__(self, epsilon=1.0, epsilon_decay=0.99, epsilon_min=0.1, gamma=0.9, \n",
    "                learning_rate=0.001):#, memory_size, batch_size):\n",
    "        self.model = Model(observation_space=4, action_space=2)\n",
    "        device = torch.device('cpu')\n",
    "        self.model = self.model.to(device)\n",
    "        self.memory = deque(maxlen=2000)\n",
    "        self.epsilon = epsilon #initial probability of taking random action - exploration|exploitation\n",
    "        self.epsilon_decay = epsilon_decay\n",
    "        self.epsilon_min = epsilon_min\n",
    "        self.gamma = gamma \n",
    "        self.optimizer = optim.Adam(self.model.parameters(), lr=learning_rate)\n",
    "        self.criterion = nn.MSELoss()\n",
    "    \n",
    "    def choose_action(self, state):\n",
    "        if np.random.rand() <= self.epsilon:\n",
    "            return np.random.randint(0,2) #either left or right\n",
    "        else:\n",
    "            return torch.argmax(self.model(torch.tensor(state))).item()\n",
    "            #return torch.random(self.model(state)) - don't need epsilon then - not deep QLearning but policy something...\n",
    "\n",
    "    def remember(self, state, action, reward, next_state, done):\n",
    "        self.memory.append((state, action, reward, next_state, done))\n",
    "\n",
    "    def replay(self, batch_size):\n",
    "        #if len(self.memory) < batch_size:\n",
    "        #    return\n",
    "        batch = random.sample(self.memory, batch_size)\n",
    "        for state, action, reward, next_state, done in batch:\n",
    "            target = torch.tensor(reward)\n",
    "            if not done:\n",
    "                target = reward + self.gamma * torch.max(self.model(torch.tensor(next_state)))\n",
    "            prediction = self.model(torch.tensor(state))[action]\n",
    "\n",
    "            #target_f = self.model(torch.tensor(state))\n",
    "            #target_f[action] = target\n",
    "            #self.model.fit(torch.tensor(state), target_f)\n",
    "            self.optimizer.zero_grad()\n",
    "            #loss = self.criterion(target_f, torch.tensor(target_f))\n",
    "            #loss = self.criterion(prediction.view(-1, 1), target.view(-1, 1))\n",
    "            loss = self.criterion(prediction, target)\n",
    "            loss.backward()\n",
    "            self.optimizer.step()\n",
    "        if self.epsilon > self.epsilon_min:\n",
    "            self.epsilon *= self.epsilon_decay"
   ]
  },
  {
   "cell_type": "code",
   "execution_count": 4,
   "metadata": {},
   "outputs": [],
   "source": [
    "#train\n",
    "def train(env, agent, batch_size=64, n_games=10000):\n",
    "    for _ in tqdm(range(n_games)):\n",
    "        state, _ = env.reset()\n",
    "        done = False\n",
    "        while not done:\n",
    "            #action = env.action_space.sample()\n",
    "            action = agent.choose_action(state)\n",
    "            next_state, reward, done, truncated, _ = env.step(action)\n",
    "            agent.remember(state, action, reward, next_state, done or truncated)\n",
    "            state = next_state\n",
    "            if len(agent.memory) > batch_size:\n",
    "                agent.replay(batch_size)\n",
    "            #agent.replay()\n",
    "    env.close()"
   ]
  },
  {
   "cell_type": "code",
   "execution_count": 5,
   "metadata": {},
   "outputs": [
    {
     "name": "stderr",
     "output_type": "stream",
     "text": [
      " 13%|█▎        | 1329/10000 [15:56<1:20:03,  1.81it/s]"
     ]
    }
   ],
   "source": [
    "def main():\n",
    "    env = gym.make('CartPole-v1', render_mode='human')\n",
    "    agent = Agent()\n",
    "    train(env, agent)\n",
    "main()"
   ]
  },
  {
   "cell_type": "markdown",
   "metadata": {
    "collapsed": false,
    "pycharm": {
     "name": "#%% md\n"
    }
   },
   "source": [
    "## Optional (highly recommended): Atari\n",
    "Adapt your agent to play an Atari game of your choice.\n",
    "https://www.gymlibrary.dev/environments/atari/air_raid/"
   ]
  },
  {
   "cell_type": "code",
   "execution_count": null,
   "metadata": {
    "collapsed": false,
    "pycharm": {
     "name": "#%%\n"
    }
   },
   "outputs": [],
   "source": []
  }
 ],
 "metadata": {
  "kernelspec": {
   "display_name": "Python 3.10.4 ('AML')",
   "language": "python",
   "name": "python3"
  },
  "language_info": {
   "codemirror_mode": {
    "name": "ipython",
    "version": 3
   },
   "file_extension": ".py",
   "mimetype": "text/x-python",
   "name": "python",
   "nbconvert_exporter": "python",
   "pygments_lexer": "ipython3",
   "version": "3.10.4"
  },
  "vscode": {
   "interpreter": {
    "hash": "20afb3d869327389044feed7fefb9b458eb6296b59bc368887fba7799b57fd31"
   }
  }
 },
 "nbformat": 4,
 "nbformat_minor": 0
}
