{
 "cells": [
  {
   "cell_type": "code",
   "execution_count": 14,
   "metadata": {},
   "outputs": [],
   "source": [
    "from IPython.display import display\n",
    "import numpy as np\n",
    "import pandas as pd\n",
    "import scipy as scp \n",
    "import matplotlib.pyplot as plt\n",
    "import seaborn as sns\n",
    "from sklearn import model_selection\n",
    "import math"
   ]
  },
  {
   "cell_type": "markdown",
   "metadata": {},
   "source": [
    "### Task 1: SVM - Theory and Practice"
   ]
  },
  {
   "cell_type": "markdown",
   "metadata": {},
   "source": [
    "##### a - Draw the points and plot them such that the two different classes can be distinguished"
   ]
  },
  {
   "cell_type": "code",
   "execution_count": 15,
   "metadata": {},
   "outputs": [],
   "source": [
    "x1 = [1, 1]\n",
    "x2 = [-1, -1]\n",
    "x3 = [-1, 1]\n",
    "x4 = [1, -1]\n",
    "\n",
    "xn = np.array((x1, x2, x3, x4))\n",
    "xn\n",
    "\n",
    "x = xn[:, 0]\n",
    "y = xn[:, 1]\n",
    "t = [1, 1, -1, -1]"
   ]
  },
  {
   "cell_type": "code",
   "execution_count": 16,
   "metadata": {},
   "outputs": [
    {
     "data": {
      "text/plain": [
       "<matplotlib.legend.Legend at 0x15aa49630>"
      ]
     },
     "execution_count": 16,
     "metadata": {},
     "output_type": "execute_result"
    },
    {
     "data": {
      "image/png": "[encoded data removed]",
      "text/plain": [
       "<Figure size 432x288 with 1 Axes>"
      ]
     },
     "metadata": {
      "needs_background": "light"
     },
     "output_type": "display_data"
    }
   ],
   "source": [
    "fix, ax = plt.subplots()\n",
    "ax.scatter(x[:2], y[:2])\n",
    "ax.scatter(x[2:], y[2:])\n",
    "#ax.grid(True, which='both')\n",
    "ax.axhline(y=0, color='k')\n",
    "ax.axvline(x=0, color='k')\n",
    "ax.legend(('class 1', 'class 2'), loc='center right')"
   ]
  },
  {
   "cell_type": "markdown",
   "metadata": {},
   "source": [
    "##### b - Since the points are not linearly separable in 2D, they will be transferred to higher dimension in an attempt to make them linearly separable in a higher dimension. Use the following basis function to transfer each of the four 2D points to 6D $\\phi: R^2 \\rightarrow R^6$\n",
    "$$\n",
    "\\phi(x) = \\phi(x_1, x_2) = (1, \\sqrt2x_1, \\sqrt2x_2, \\sqrt2x_1x_2, x_1^2, x_2^2)^T\n",
    "$$\n",
    "i.e. calculate $z_n = \\phi(x_n), n = 1, ..., 4 = N$"
   ]
  },
  {
   "cell_type": "code",
   "execution_count": 17,
   "metadata": {},
   "outputs": [
    {
     "name": "stdout",
     "output_type": "stream",
     "text": [
      "input:  [1 1]\n",
      "input:  [-1 -1]\n",
      "input:  [-1  1]\n",
      "input:  [ 1 -1]\n",
      "(6, 1)\n"
     ]
    }
   ],
   "source": [
    "def transform(point):\n",
    "    print('input: ', point)\n",
    "    d1 = 1\n",
    "    d2 = math.sqrt(2)*point[0]\n",
    "    d3 = math.sqrt(2)*point[1]\n",
    "    d4 = math.sqrt(2)*point[0]*point[1]\n",
    "    d5 = point[0]**2\n",
    "    d6 = point[1]**2\n",
    "    return np.array([(d1, d2, d3, d4, d5, d6)]).T\n",
    "\n",
    "phi_x = np.array(([transform(point) for point in xn]))\n",
    "phi_x\n",
    "print(phi_x[0].shape)"
   ]
  },
  {
   "cell_type": "markdown",
   "metadata": {},
   "source": [
    "##### c - Use the known values to complete Eq. (7.10) from Bishop [PR]\n",
    "$$\n",
    "\\widetilde{L}(a) = \\widetilde{L}(a_1, a_2, a_3, a_4) = \\sum_{n=1}^4 a_n - \\frac{1}{2} \\sum_{m=1}^4 \\sum_{n=1}^4 a_n a_m t_n t_m \\phi(x_n)^T \\phi(x_m)\n",
    "$$\n",
    "where $k(x_n, x_m) = \\phi(x_n)^T \\phi(x_m)$"
   ]
  },
  {
   "cell_type": "code",
   "execution_count": 30,
   "metadata": {},
   "outputs": [],
   "source": [
    "def L(a1, a2, a3, a4):\n",
    "    arr_a = [a1, a2, a3, a4]\n",
    "    sum_a = 0\n",
    "    for n in range(4):\n",
    "        sum_a += arr_a[n]\n",
    "\n",
    "    sum = 0\n",
    "    for m in range(4):\n",
    "        for n in range(4):\n",
    "            #sum += np.dot(arr_a[n], arr_a[m]) * t[n] * t[m] * np.dot(transform(xn[n]).T, transform(xn[m]))\n",
    "            sum += arr_a[n] @ arr_a[m] * t[n] * t[m] * transform(xn[n]).T @ transform(xn[m])\n",
    "    return sum_a - 0.5*sum"
   ]
  },
  {
   "cell_type": "markdown",
   "metadata": {},
   "source": [
    "##### d - Compute the derivative of $\\widetilde{L}(a)$ with respect to $a_k$, i.e. the four components of the gradient\n",
    "$$\n",
    "\\nabla \\widetilde{L}(a) = \n",
    "\\begin{pmatrix} \n",
    "    \\frac{\\partial}{\\partial a_1} \\widetilde{L}(a_1, a_2, a_3, a_4) \\\\\n",
    "    \\frac{\\partial}{\\partial a_2} \\widetilde{L}(a_1, a_2, a_3, a_4) \\\\\n",
    "    \\frac{\\partial}{\\partial a_3} \\widetilde{L}(a_1, a_2, a_3, a_4) \\\\\n",
    "    \\frac{\\partial}{\\partial a_4} \\widetilde{L}(a_1, a_2, a_3, a_4)\n",
    "\\end{pmatrix}\n",
    "$$"
   ]
  },
  {
   "cell_type": "code",
   "execution_count": 31,
   "metadata": {},
   "outputs": [
    {
     "name": "stdout",
     "output_type": "stream",
     "text": [
      "input:  [1 1]\n",
      "input:  [1 1]\n",
      "input:  [-1 -1]\n",
      "input:  [1 1]\n",
      "input:  [-1  1]\n",
      "input:  [1 1]\n",
      "input:  [ 1 -1]\n",
      "input:  [1 1]\n",
      "input:  [1 1]\n",
      "input:  [-1 -1]\n",
      "input:  [-1 -1]\n",
      "input:  [-1 -1]\n",
      "input:  [-1  1]\n",
      "input:  [-1 -1]\n",
      "input:  [ 1 -1]\n",
      "input:  [-1 -1]\n",
      "input:  [1 1]\n",
      "input:  [-1  1]\n",
      "input:  [-1 -1]\n",
      "input:  [-1  1]\n",
      "input:  [-1  1]\n",
      "input:  [-1  1]\n",
      "input:  [ 1 -1]\n",
      "input:  [-1  1]\n",
      "input:  [1 1]\n",
      "input:  [ 1 -1]\n",
      "input:  [-1 -1]\n",
      "input:  [ 1 -1]\n",
      "input:  [-1  1]\n",
      "input:  [ 1 -1]\n",
      "input:  [ 1 -1]\n",
      "input:  [ 1 -1]\n"
     ]
    },
    {
     "data": {
      "text/plain": [
       "array([[-32., -32.]])"
      ]
     },
     "execution_count": 31,
     "metadata": {},
     "output_type": "execute_result"
    }
   ],
   "source": [
    "L(xn[0], xn[1], xn[2], xn[3])\n"
   ]
  },
  {
   "cell_type": "markdown",
   "metadata": {},
   "source": [
    "##### e - derive the equation system from $\\nabla \\tilde{L}(a) = 0$ and solve for $a = (a_1, a_2, a_3, a_4)^T$\n",
    "Hint one example to rewrite a 2D gradient of a function into a non-homogeneous equation system:\n",
    "$$\n",
    "\\nabla f(x) = \\begin{pmatrix} x_1 + 3x_2 + b_1 \\\\ 2x_1 - x_2 + b_2 \\end{pmatrix} = \\begin{pmatrix} 1 & 3 \\\\ 2 & -1 \\end{pmatrix}\n",
    "\\begin{pmatrix} x_1 \\\\ x_2 \\end{pmatrix} + \\begin{pmatrix} b_1 \\\\ b_2 \\end{pmatrix} = Ax + b \\stackrel{!}{=} 0\n",
    "$$"
   ]
  },
  {
   "cell_type": "code",
   "execution_count": 20,
   "metadata": {},
   "outputs": [],
   "source": [
    "#"
   ]
  },
  {
   "cell_type": "markdown",
   "metadata": {},
   "source": [
    "##### f - which of the four training points are support vectors? How do the values of $a_n$ answer this question?"
   ]
  },
  {
   "cell_type": "code",
   "execution_count": null,
   "metadata": {},
   "outputs": [],
   "source": []
  },
  {
   "cell_type": "markdown",
   "metadata": {},
   "source": [
    "##### g - Now that all four values of a have been computed, employ Eq.(7.29) to compute w:\n",
    "$$\n",
    "w = \\sum_{n=1}^4 a_n t_n z_n = \\sum_{n=1}^4 a_n t_n \\phi(x_n)\n",
    "$$\n"
   ]
  },
  {
   "cell_type": "code",
   "execution_count": null,
   "metadata": {},
   "outputs": [],
   "source": []
  },
  {
   "cell_type": "markdown",
   "metadata": {},
   "source": [
    "##### h - Give the discriminant function g based on the original input space\n",
    "$$\n",
    "g(x) = g(x_1, x_2) = w^T \\phi(x) = ...\n",
    "$$"
   ]
  },
  {
   "cell_type": "code",
   "execution_count": null,
   "metadata": {},
   "outputs": [],
   "source": []
  },
  {
   "cell_type": "markdown",
   "metadata": {},
   "source": [
    "##### i - Apply the discriminant function and compute the resulting values for the training input samples g(x_i), i = 1, ..., 4. How are they classified? Are they correctly classified?"
   ]
  },
  {
   "cell_type": "code",
   "execution_count": null,
   "metadata": {},
   "outputs": [],
   "source": []
  }
 ],
 "metadata": {
  "kernelspec": {
   "display_name": "Python 3.10.4 ('AML')",
   "language": "python",
   "name": "python3"
  },
  "language_info": {
   "codemirror_mode": {
    "name": "ipython",
    "version": 3
   },
   "file_extension": ".py",
   "mimetype": "text/x-python",
   "name": "python",
   "nbconvert_exporter": "python",
   "pygments_lexer": "ipython3",
   "version": "3.10.4"
  },
  "orig_nbformat": 4,
  "vscode": {
   "interpreter": {
    "hash": "20afb3d869327389044feed7fefb9b458eb6296b59bc368887fba7799b57fd31"
   }
  }
 },
 "nbformat": 4,
 "nbformat_minor": 2
}
