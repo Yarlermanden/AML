{
 "cells": [
  {
   "cell_type": "markdown",
   "metadata": {
    "pycharm": {
     "name": "#%% md\n"
    }
   },
   "source": [
    "# Exercise 3.4: MLP in PyTorch\n",
    "\n",
    "Advanced Machine Learning for KCS\n",
    "\n",
    "by Stefan Heinrich, Stella Grasshof, Laura Weihl\n",
    "with material by Kevin Murphy\n",
    "\n",
    "All info and static material: https://learnit.itu.dk/course/view.php?id=3021295\n",
    "\n",
    "-------------------------------------------------------------------------------"
   ]
  },
  {
   "cell_type": "markdown",
   "metadata": {
    "pycharm": {
     "name": "#%% md\n"
    }
   },
   "source": [
    "## MLP on MNIST using PyTorch"
   ]
  },
  {
   "cell_type": "code",
   "execution_count": null,
   "metadata": {
    "pycharm": {
     "name": "#%%\n"
    }
   },
   "outputs": [],
   "source": [
    "# Standard Python libraries\n",
    "from __future__ import absolute_import, division, print_function, unicode_literals\n",
    "\n",
    "from IPython import display\n",
    "import os\n",
    "import time\n",
    "import numpy as np\n",
    "import pandas as pd\n",
    "import matplotlib.pyplot as plt\n",
    "\n",
    "import torch\n",
    "import torch.nn as nn\n",
    "import torch.nn.functional as F\n",
    "import torchvision\n",
    "import torchvision.transforms as transforms\n"
   ]
  },
  {
   "cell_type": "markdown",
   "metadata": {
    "pycharm": {
     "name": "#%% md\n"
    }
   },
   "source": [
    "### Load the data"
   ]
  },
  {
   "cell_type": "code",
   "execution_count": null,
   "metadata": {
    "pycharm": {
     "name": "#%%\n"
    }
   },
   "outputs": [],
   "source": [
    "BATCH_SIZE = 32\n",
    "\n",
    "# transformations\n",
    "transform = transforms.Compose(\n",
    "    [transforms.ToTensor()])\n",
    "\n",
    "# Create a dataloader for Pytorch training\n",
    "# download and load training dataset\n",
    "trainset = torchvision.datasets.MNIST(root='../data', train=True,\n",
    "                                        download=True, transform=transform)\n",
    "trainloader = torch.utils.data.DataLoader(trainset, batch_size=BATCH_SIZE,\n",
    "                                          shuffle=True, num_workers=2)\n",
    "\n",
    "# download and load testing dataset\n",
    "testset = torchvision.datasets.MNIST(root='../data', train=False,\n",
    "                                       download=True, transform=transform)\n",
    "testloader = torch.utils.data.DataLoader(testset, batch_size=1,\n",
    "                                         shuffle=False, num_workers=2)"
   ]
  },
  {
   "cell_type": "markdown",
   "metadata": {
    "pycharm": {
     "name": "#%% md\n"
    }
   },
   "source": [
    "### Build the model"
   ]
  },
  {
   "cell_type": "code",
   "execution_count": null,
   "metadata": {
    "pycharm": {
     "name": "#%%\n"
    }
   },
   "outputs": [],
   "source": [
    "def get_output_shape(layer, img_size):\n",
    "    return layer(torch.rand(*(img_size))).data.shape\n",
    "\n",
    "class MNIST_model(nn.Module):\n",
    "  def __init__(self, img_size, fc1_out, class_out):\n",
    "      super(MNIST_model, self).__init__()\n",
    "\n",
    "      self.linear_layer_1 = nn.Linear(in_features=img_size*img_size, out_features=fc1_out)\n",
    "      self.linear_layer_2 = nn.Linear(in_features=fc1_out, out_features=class_out)\n",
    "\n",
    "  def forward(self, img):\n",
    "\n",
    "    # we flatten the 2D image into one long array\n",
    "    # Start_dim = 1 because we pass the batches\n",
    "    img = img.flatten(start_dim=1)\n",
    "\n",
    "    x = self.linear_layer_1(img)\n",
    "    x = F.relu(x)\n",
    "\n",
    "    x = self.linear_layer_2(x)\n",
    "    x = F.softmax(x, dim=1)\n",
    "\n",
    "    return x"
   ]
  },
  {
   "cell_type": "markdown",
   "metadata": {
    "pycharm": {
     "name": "#%% md\n"
    }
   },
   "source": [
    "### Train the model"
   ]
  },
  {
   "cell_type": "code",
   "execution_count": null,
   "metadata": {
    "pycharm": {
     "name": "#%%\n"
    }
   },
   "outputs": [],
   "source": [
    "# Define hyperparameters\n",
    "learning_rate = 0.001\n",
    "momentum = 0.9\n",
    "epochs = 5\n",
    "\n",
    "# Setup for training\n",
    "device = torch.device(\"cuda:0\" if torch.cuda.is_available() else \"cpu\")\n",
    "img_size = trainloader.dataset.data.shape[1]\n",
    "class_out = trainloader.dataset.targets.unique().size()[0]\n",
    "model = MNIST_model(img_size, 128, class_out)\n",
    "model = model.to(device)\n",
    "criterion = nn.CrossEntropyLoss()\n",
    "optimizer = torch.optim.SGD(model.parameters(), lr=learning_rate, momentum=momentum)\n",
    "\n",
    "# Training loop\n",
    "\n",
    "def get_accuracy(logit, target, batch_size):\n",
    "    # compute accuracy\n",
    "    corrects = (torch.max(logit, 1)[1].view(target.size()).data == target.data).sum()\n",
    "    accuracy = 100.0 * corrects/batch_size\n",
    "    return accuracy.item()\n",
    "\n",
    "for epoch in range(epochs):\n",
    "  # Put the model in training mode\n",
    "  model = model.train()\n",
    "\n",
    "  train_running_loss = 0.0\n",
    "  train_acc = 0.0\n",
    "  for idx, (images, labels) in enumerate(trainloader):\n",
    "    images = images.to(device)\n",
    "    labels = labels.to(device)\n",
    "\n",
    "    # loss and optimiser definitions!\n",
    "    logits = model(images)\n",
    "    loss = criterion(logits, labels)\n",
    "    optimizer.zero_grad()\n",
    "\n",
    "    loss.backward()\n",
    "\n",
    "    # update model params\n",
    "    optimizer.step()\n",
    "\n",
    "    train_running_loss += loss.detach().item()\n",
    "    train_acc += get_accuracy(logits, labels, BATCH_SIZE)\n",
    "\n",
    "  print('Epoch: %d | Loss: %.4f | Train Accuracy: %.2f' \\\n",
    "          %(epoch, train_running_loss / idx, train_acc/idx))\n",
    "\n",
    "model = model.eval()\n",
    "test_acc = 0.0\n",
    "for i, (images, labels) in enumerate(testloader, 0):\n",
    "    images = images.to(device)\n",
    "    labels = labels.to(device)\n",
    "    outputs = model(images)\n",
    "    test_acc += get_accuracy(outputs, labels, 1)\n",
    "\n",
    "print(f\"Test Accuracy: {test_acc/i}, in epoch: {epoch}\")"
   ]
  },
  {
   "cell_type": "markdown",
   "metadata": {
    "pycharm": {
     "name": "#%% md\n"
    }
   },
   "source": [
    "### Prediction and visualisation"
   ]
  },
  {
   "cell_type": "code",
   "execution_count": null,
   "metadata": {
    "pycharm": {
     "name": "#%%\n"
    }
   },
   "outputs": [],
   "source": [
    "model = model.eval()\n",
    "\n",
    "hist = {\n",
    "          0: {i:0 for i in range(10)},\n",
    "          1: {i:0 for i in range(10)},\n",
    "          2: {i:0 for i in range(10)},\n",
    "          3: {i:0 for i in range(10)},\n",
    "          4: {i:0 for i in range(10)},\n",
    "          5: {i:0 for i in range(10)},\n",
    "          6: {i:0 for i in range(10)},\n",
    "          7: {i:0 for i in range(10)},\n",
    "          8: {i:0 for i in range(10)},\n",
    "          9: {i:0 for i in range(10)}\n",
    "        }\n",
    "\n",
    "logits = []\n",
    "\n",
    "for (images, labels) in testloader:\n",
    "  images = images.to(device)\n",
    "  labels = labels.to(device)\n",
    "  outputs = model(images)\n",
    "  logits.append(outputs.tolist()[0])\n",
    "  pred = torch.argmax(outputs).item()\n",
    "  hist[labels[0].item()][pred] += 1"
   ]
  },
  {
   "cell_type": "code",
   "execution_count": null,
   "metadata": {
    "pycharm": {
     "name": "#%%\n"
    }
   },
   "outputs": [],
   "source": [
    "fig = plt.figure()\n",
    "fig.set_figheight(15)\n",
    "fig.set_figwidth(15)\n",
    "for idx, (key, val) in enumerate(hist.items()):\n",
    "  ax = fig.add_subplot(3, 4, idx+1)\n",
    "  ax.bar(list(val.keys()), val.values(), color='r')\n",
    "  ax.set_title(f\"Prediction for {key}\")\n",
    "  ax.set_xticks(range(0,10))\n",
    "  ax.set_ylim(0, 1200)\n",
    "\n",
    "plt.show()"
   ]
  }
 ],
 "metadata": {
  "kernelspec": {
   "display_name": "Python 3 (ipykernel)",
   "language": "python",
   "name": "python3"
  },
  "language_info": {
   "codemirror_mode": {
    "name": "ipython",
    "version": 3
   },
   "file_extension": ".py",
   "mimetype": "text/x-python",
   "name": "python",
   "nbconvert_exporter": "python",
   "pygments_lexer": "ipython3",
   "version": "3.8.10"
  }
 },
 "nbformat": 4,
 "nbformat_minor": 1
}