{
 "cells": [
  {
   "cell_type": "markdown",
   "metadata": {
    "pycharm": {
     "name": "#%% md\n"
    }
   },
   "source": [
    "# Exercise 3.3: MLP basics with sklearn\n",
    "\n",
    "Advanced Machine Learning for KCS\n",
    "\n",
    "by Stefan Heinrich, Stella Grasshof, Laura Weihl\n",
    "with material by Kevin Murphy\n",
    "\n",
    "All info and static material: https://learnit.itu.dk/course/view.php?id=3021295\n",
    "\n",
    "-------------------------------------------------------------------------------"
   ]
  },
  {
   "cell_type": "code",
   "execution_count": 737,
   "metadata": {
    "pycharm": {
     "name": "#%% Import libraries\n"
    }
   },
   "outputs": [],
   "source": [
    "from IPython.display import display\n",
    "import numpy as np\n",
    "import pandas as pd\n",
    "import random\n",
    "import matplotlib.pyplot as plt\n",
    "from sklearn.linear_model import LogisticRegression\n",
    "from sklearn import datasets\n",
    "from sklearn import model_selection\n",
    "from sklearn import metrics\n",
    "from sklearn import neural_network\n",
    "import seaborn as sns"
   ]
  },
  {
   "cell_type": "markdown",
   "metadata": {
    "pycharm": {
     "name": "#%% md\n"
    }
   },
   "source": [
    "#### Loading Iris dataset with seaborn\n"
   ]
  },
  {
   "cell_type": "code",
   "execution_count": 738,
   "metadata": {
    "pycharm": {
     "name": "#%%\n"
    }
   },
   "outputs": [
    {
     "data": {
      "text/html": [
       "<div>\n",
       "<style scoped>\n",
       "    .dataframe tbody tr th:only-of-type {\n",
       "        vertical-align: middle;\n",
       "    }\n",
       "\n",
       "    .dataframe tbody tr th {\n",
       "        vertical-align: top;\n",
       "    }\n",
       "\n",
       "    .dataframe thead th {\n",
       "        text-align: right;\n",
       "    }\n",
       "</style>\n",
       "<table border=\"1\" class=\"dataframe\">\n",
       "  <thead>\n",
       "    <tr style=\"text-align: right;\">\n",
       "      <th></th>\n",
       "      <th>sepal_length</th>\n",
       "      <th>sepal_width</th>\n",
       "      <th>petal_length</th>\n",
       "      <th>petal_width</th>\n",
       "      <th>species</th>\n",
       "    </tr>\n",
       "  </thead>\n",
       "  <tbody>\n",
       "    <tr>\n",
       "      <th>0</th>\n",
       "      <td>5.1</td>\n",
       "      <td>3.5</td>\n",
       "      <td>1.4</td>\n",
       "      <td>0.2</td>\n",
       "      <td>setosa</td>\n",
       "    </tr>\n",
       "    <tr>\n",
       "      <th>1</th>\n",
       "      <td>4.9</td>\n",
       "      <td>3.0</td>\n",
       "      <td>1.4</td>\n",
       "      <td>0.2</td>\n",
       "      <td>setosa</td>\n",
       "    </tr>\n",
       "    <tr>\n",
       "      <th>2</th>\n",
       "      <td>4.7</td>\n",
       "      <td>3.2</td>\n",
       "      <td>1.3</td>\n",
       "      <td>0.2</td>\n",
       "      <td>setosa</td>\n",
       "    </tr>\n",
       "  </tbody>\n",
       "</table>\n",
       "</div>"
      ],
      "text/plain": [
       "   sepal_length  sepal_width  petal_length  petal_width species\n",
       "0           5.1          3.5           1.4          0.2  setosa\n",
       "1           4.9          3.0           1.4          0.2  setosa\n",
       "2           4.7          3.2           1.3          0.2  setosa"
      ]
     },
     "metadata": {},
     "output_type": "display_data"
    },
    {
     "data": {
      "image/png": "[encoded data removed]",
      "text/plain": [
       "<Figure size 432x288 with 1 Axes>"
      ]
     },
     "metadata": {
      "needs_background": "light"
     },
     "output_type": "display_data"
    }
   ],
   "source": [
    "iris_df = sns.load_dataset(\"iris\")\n",
    "\n",
    "display(iris_df.head(n=3))\n",
    "\n",
    "plot_raw = sns.scatterplot(x=iris_df['sepal_length'], y=iris_df['sepal_width'],\n",
    "                           hue=iris_df['species'])"
   ]
  },
  {
   "cell_type": "markdown",
   "metadata": {
    "pycharm": {
     "name": "#%% md\n"
    }
   },
   "source": [
    "#### Run logistic regression via sklearn\n",
    "\n",
    "https://scikit-learn.org/stable/modules/generated/sklearn.linear_model.LogisticRegression.html#sklearn.linear_model.LogisticRegression"
   ]
  },
  {
   "cell_type": "code",
   "execution_count": 739,
   "metadata": {
    "pycharm": {
     "name": "#%%\n"
    }
   },
   "outputs": [
    {
     "data": {
      "text/html": [
       "<div>\n",
       "<style scoped>\n",
       "    .dataframe tbody tr th:only-of-type {\n",
       "        vertical-align: middle;\n",
       "    }\n",
       "\n",
       "    .dataframe tbody tr th {\n",
       "        vertical-align: top;\n",
       "    }\n",
       "\n",
       "    .dataframe thead th {\n",
       "        text-align: right;\n",
       "    }\n",
       "</style>\n",
       "<table border=\"1\" class=\"dataframe\">\n",
       "  <thead>\n",
       "    <tr style=\"text-align: right;\">\n",
       "      <th></th>\n",
       "      <th>sepal_length</th>\n",
       "      <th>sepal_width</th>\n",
       "      <th>petal_length</th>\n",
       "      <th>petal_width</th>\n",
       "      <th>species</th>\n",
       "    </tr>\n",
       "  </thead>\n",
       "  <tbody>\n",
       "    <tr>\n",
       "      <th>0</th>\n",
       "      <td>5.1</td>\n",
       "      <td>3.5</td>\n",
       "      <td>1.4</td>\n",
       "      <td>0.2</td>\n",
       "      <td>setosa</td>\n",
       "    </tr>\n",
       "    <tr>\n",
       "      <th>1</th>\n",
       "      <td>4.9</td>\n",
       "      <td>3.0</td>\n",
       "      <td>1.4</td>\n",
       "      <td>0.2</td>\n",
       "      <td>setosa</td>\n",
       "    </tr>\n",
       "    <tr>\n",
       "      <th>2</th>\n",
       "      <td>4.7</td>\n",
       "      <td>3.2</td>\n",
       "      <td>1.3</td>\n",
       "      <td>0.2</td>\n",
       "      <td>setosa</td>\n",
       "    </tr>\n",
       "  </tbody>\n",
       "</table>\n",
       "</div>"
      ],
      "text/plain": [
       "   sepal_length  sepal_width  petal_length  petal_width species\n",
       "0           5.1          3.5           1.4          0.2  setosa\n",
       "1           4.9          3.0           1.4          0.2  setosa\n",
       "2           4.7          3.2           1.3          0.2  setosa"
      ]
     },
     "metadata": {},
     "output_type": "display_data"
    },
    {
     "name": "stdout",
     "output_type": "stream",
     "text": [
      "[[3.8  3.82 3.84 ... 8.36 8.38 8.4 ]\n",
      " [3.8  3.82 3.84 ... 8.36 8.38 8.4 ]\n",
      " [3.8  3.82 3.84 ... 8.36 8.38 8.4 ]\n",
      " ...\n",
      " [3.8  3.82 3.84 ... 8.36 8.38 8.4 ]\n",
      " [3.8  3.82 3.84 ... 8.36 8.38 8.4 ]\n",
      " [3.8  3.82 3.84 ... 8.36 8.38 8.4 ]]\n",
      "[[1.5  1.5  1.5  ... 1.5  1.5  1.5 ]\n",
      " [1.52 1.52 1.52 ... 1.52 1.52 1.52]\n",
      " [1.54 1.54 1.54 ... 1.54 1.54 1.54]\n",
      " ...\n",
      " [4.86 4.86 4.86 ... 4.86 4.86 4.86]\n",
      " [4.88 4.88 4.88 ... 4.88 4.88 4.88]\n",
      " [4.9  4.9  4.9  ... 4.9  4.9  4.9 ]]\n"
     ]
    },
    {
     "name": "stderr",
     "output_type": "stream",
     "text": [
      "/Users/martinholst/miniconda3/envs/AML/lib/python3.10/site-packages/sklearn/base.py:450: UserWarning: X does not have valid feature names, but LogisticRegression was fitted with feature names\n",
      "  warnings.warn(\n"
     ]
    },
    {
     "data": {
      "text/plain": [
       "<matplotlib.collections.QuadMesh at 0x317c67160>"
      ]
     },
     "execution_count": 739,
     "metadata": {},
     "output_type": "execute_result"
    },
    {
     "data": {
      "image/png": "[encoded data removed]",
      "text/plain": [
       "<Figure size 432x288 with 1 Axes>"
      ]
     },
     "metadata": {
      "needs_background": "light"
     },
     "output_type": "display_data"
    }
   ],
   "source": [
    "# Create an instance of Logistic Regression Classifier and fit the data.\n",
    "r_strength = 100000  # Inverse of regularization strength in [1,Inf]\n",
    "l_solver = 'newton-cg'  # Optimisation algorithm in ['newton-cg', 'lbfgs', 'liblinear', 'sag', 'saga']\n",
    "m_class = 'multinomial'  # see documentation\n",
    "\n",
    "logreg = LogisticRegression(C=r_strength, solver=l_solver,\n",
    "                            multi_class=m_class)\n",
    "\n",
    "# directly access iris_df['sepal_length'] and iris_df['sepal_width']\n",
    "iris_df_inputs = iris_df[['sepal_length', 'sepal_width']]\n",
    "display(iris_df.head(n=3))\n",
    "# other options:\n",
    "#iris_inputs = iris_df.values[:,:2]\n",
    "#iris_inputs = iris_df.iloc[:,:2]\n",
    "\n",
    "#convert 'species' from labels to ids\n",
    "iris_classes = list(set(iris_df['species']))\n",
    "iris_classes_dict = {iris_classes[k]: k for k in range(len(iris_classes))}\n",
    "iris_species_ids = iris_df['species'].replace(iris_classes_dict)\n",
    "\n",
    "# we only take the first two features\n",
    "#logreg.fit(iris_data_inputs[:, :2], iris_data_targets_ids)\n",
    "logreg.fit(iris_df_inputs, iris_species_ids)\n",
    "\n",
    "# Plot the decision boundary. For that, we will assign a color to each\n",
    "# point in the mesh [x_min, x_max]x[y_min, y_max].\n",
    "x_min, x_max = iris_df['sepal_length'].min() - .5, iris_df['sepal_length'].max() + .5\n",
    "y_min, y_max = iris_df['sepal_width'].min() - .5, iris_df['sepal_width'].max() + .5\n",
    "h = .02  # step size in the mesh\n",
    "xx, yy = np.meshgrid(np.arange(x_min, x_max, h), np.arange(y_min, y_max, h))\n",
    "print(xx)\n",
    "print(yy)\n",
    "Z = logreg.predict(np.c_[xx.ravel(), yy.ravel()])  # this is not a clean way to do and will raise a warning (we only process values here, but trained with dataframes that had names), but for our purpose that's fine\n",
    "Z = Z.reshape(xx.shape)\n",
    "\n",
    "plot_rsk = sns.scatterplot(x=iris_df['sepal_length'], y=iris_df['sepal_width'],\n",
    "                           hue=iris_df['species'], cmap=plt.cm.Paired)\n",
    "plot_rsk.pcolormesh(xx, yy, Z, cmap=plt.cm.Paired, alpha=0.4)\n"
   ]
  },
  {
   "cell_type": "markdown",
   "metadata": {
    "pycharm": {
     "name": "#%% md\n"
    }
   },
   "source": [
    "#### Perform supervised training of an MLP via sklearn\n",
    "\n",
    "https://scikit-learn.org/stable/modules/neural_networks_supervised.html"
   ]
  },
  {
   "cell_type": "code",
   "execution_count": 740,
   "metadata": {
    "pycharm": {
     "name": "#%%\n"
    }
   },
   "outputs": [],
   "source": [
    "n_datapoints = len(iris_df)\n",
    "# here we define, which variables we want to use as input for learning\n",
    "iris_df_inp = iris_df[\n",
    "    ['sepal_length', 'sepal_width', 'petal_length', 'petal_width']]\n",
    "iris_df_out = iris_df['species']\n",
    "\n",
    "p_random_seed = 12\n",
    "p_datasplit = 0.3  # how much percent of the data is used for testing\n",
    "random.seed(p_random_seed)  # init the random generator with a seed\n",
    "\n",
    "# for the split we use the sklearn model_selection module\n",
    "iris_df_inp_train, iris_df_inp_test, iris_df_out_train, iris_df_out_test = model_selection.train_test_split(\n",
    "    iris_df_inp, iris_df_out, test_size=p_datasplit,\n",
    "    random_state=p_random_seed)\n",
    "#display(iris_df_inp_train.head(n=3), iris_df_out_train.head(n=3))\n",
    "#display(iris_df_inp_test.head(n=3), iris_df_out_test.head(n=3))"
   ]
  },
  {
   "cell_type": "code",
   "execution_count": 741,
   "metadata": {
    "pycharm": {
     "name": "#%%\n"
    }
   },
   "outputs": [
    {
     "name": "stdout",
     "output_type": "stream",
     "text": [
      "Prediction accuracy: 0.9777777777777777\n"
     ]
    },
    {
     "name": "stderr",
     "output_type": "stream",
     "text": [
      "/Users/martinholst/miniconda3/envs/AML/lib/python3.10/site-packages/sklearn/neural_network/_multilayer_perceptron.py:621: UserWarning: Got `batch_size` less than 1 or larger than sample size. It is going to be clipped\n",
      "  warnings.warn(\n"
     ]
    }
   ],
   "source": [
    "# parameters for the MLP shape\n",
    "hidden_layer_sizes = (4, 4)  # tuple of sizes of hidden layers\n",
    "activation ='tanh'  # activation_fkt, {‘identity’, ‘logistic’, ‘tanh’, ‘relu’}\n",
    "\n",
    "#parameters for the learning\n",
    "solver = 'sgd'  # optimizer, {‘lbfgs’, ‘sgd’, ‘adam’}\n",
    "learning_rate_init = 0.01  # learning_rate, try something smaller first!\n",
    "learning_rate = 'adaptive'  # learning_rate_type, {‘constant’, ‘invscaling’, ‘adaptive’}\n",
    "max_iter = 10000  # epoches, number of training interations\n",
    "batch_size = 10000  # number of training examples per epoch\n",
    "momentum = 0.8  # [0,1]\n",
    "\n",
    "clf_mlp = neural_network.MLPClassifier(\n",
    "    random_state=p_random_seed, solver=solver, activation=activation,\n",
    "    hidden_layer_sizes=hidden_layer_sizes, learning_rate_init=learning_rate_init,\n",
    "    max_iter=max_iter, learning_rate=learning_rate, momentum=momentum,\n",
    "    batch_size=batch_size, nesterovs_momentum=True, alpha=1e-05,\n",
    "    beta_1=0.9, beta_2=0.999, epsilon=1e-08, early_stopping=False,\n",
    "    n_iter_no_change=10, power_t=0.5, tol=0.0001, validation_fraction=0.1,\n",
    "    shuffle=True, verbose=False, warm_start=False)\n",
    "\n",
    "clf_mlp.fit(iris_df_inp_train, iris_df_out_train)\n",
    "test_accuracy = clf_mlp.score(iris_df_inp_test, iris_df_out_test)\n",
    "print(\"Prediction accuracy:\", test_accuracy)\n",
    "\n",
    "## **uncomment this for iterative fitting (to see every epoch)\n",
    "# for k in range(max_iter):\n",
    "#     clf_mlp.partial_fit(iris_df_inp_train, iris_df_out_train,\n",
    "#                     classes=list(set(iris_df['species'])))\n",
    "#     test_accuracy = clf_mlp.score(iris_df_inp_test, iris_df_out_test)\n",
    "#     print(\"Prediction epoch: \",k,\" accuracy:\", test_accuracy)\n"
   ]
  },
  {
   "cell_type": "markdown",
   "metadata": {
    "pycharm": {
     "name": "#%% md\n"
    }
   },
   "source": [
    "#### Analyse the mlp training results\n",
    "\n",
    "The following plots are examples for getting *some* understanding of the model performance."
   ]
  },
  {
   "cell_type": "code",
   "execution_count": 742,
   "metadata": {
    "pycharm": {
     "name": "#%%\n"
    }
   },
   "outputs": [
    {
     "name": "stdout",
     "output_type": "stream",
     "text": [
      "              precision    recall  f1-score   support\n",
      "\n",
      "      setosa       1.00      1.00      1.00        20\n",
      "  versicolor       1.00      0.93      0.96        14\n",
      "   virginica       0.92      1.00      0.96        11\n",
      "\n",
      "    accuracy                           0.98        45\n",
      "   macro avg       0.97      0.98      0.97        45\n",
      "weighted avg       0.98      0.98      0.98        45\n",
      "\n"
     ]
    },
    {
     "data": {
      "text/plain": [
       "Text(33.0, 0.5, 'true label')"
      ]
     },
     "execution_count": 742,
     "metadata": {},
     "output_type": "execute_result"
    },
    {
     "data": {
      "image/png": "[encoded data removed]",
      "text/plain": [
       "<Figure size 432x288 with 2 Axes>"
      ]
     },
     "metadata": {
      "needs_background": "light"
     },
     "output_type": "display_data"
    }
   ],
   "source": [
    "test_pred = clf_mlp.predict(iris_df_inp_test)\n",
    "print(metrics.classification_report(iris_df_out_test, test_pred))\n",
    "\n",
    "confusion_matrix = metrics.confusion_matrix(iris_df_out_test, test_pred)\n",
    "plot_tree_cm = sns.heatmap(confusion_matrix, annot=True, center=0)\n",
    "plot_tree_cm.set_xlabel('predicted label')\n",
    "plot_tree_cm.set_ylabel('true label')"
   ]
  },
  {
   "cell_type": "code",
   "execution_count": 743,
   "metadata": {
    "pycharm": {
     "name": "#%%\n"
    }
   },
   "outputs": [
    {
     "name": "stdout",
     "output_type": "stream",
     "text": [
      "Prediction: [('setosa', 'setosa'), ('virginica', 'virginica'), ('setosa', 'setosa'), ('versicolor', 'versicolor'), ('virginica', 'virginica'), ('virginica', 'virginica'), ('virginica', 'virginica'), ('setosa', 'setosa'), ('virginica', 'virginica'), ('setosa', 'setosa'), ('versicolor', 'versicolor'), ('setosa', 'setosa'), ('setosa', 'setosa'), ('setosa', 'setosa'), ('versicolor', 'versicolor'), ('virginica', 'virginica'), ('virginica', 'virginica'), ('versicolor', 'versicolor'), ('setosa', 'setosa'), ('virginica', 'versicolor'), ('setosa', 'setosa'), ('versicolor', 'versicolor'), ('virginica', 'virginica'), ('versicolor', 'versicolor'), ('setosa', 'setosa'), ('virginica', 'virginica'), ('versicolor', 'versicolor'), ('versicolor', 'versicolor'), ('setosa', 'setosa'), ('setosa', 'setosa'), ('setosa', 'setosa'), ('versicolor', 'versicolor'), ('virginica', 'virginica'), ('setosa', 'setosa'), ('virginica', 'virginica'), ('setosa', 'setosa'), ('versicolor', 'versicolor'), ('versicolor', 'versicolor'), ('setosa', 'setosa'), ('versicolor', 'versicolor'), ('versicolor', 'versicolor'), ('setosa', 'setosa'), ('setosa', 'setosa'), ('setosa', 'setosa'), ('setosa', 'setosa')]\n",
      "Prediction probabilities: [[9.67647672e-01 3.18424676e-02 5.09860529e-04]\n",
      " [3.33713019e-04 6.47282371e-02 9.34938050e-01]\n",
      " [9.66416413e-01 3.30571802e-02 5.26406322e-04]\n",
      " [1.56513738e-02 9.64116601e-01 2.02320250e-02]\n",
      " [1.99618428e-04 3.91779615e-02 9.60622420e-01]\n",
      " [5.14770406e-04 9.91267923e-02 9.00358437e-01]\n",
      " [2.60238430e-04 5.07317200e-02 9.49008042e-01]\n",
      " [9.67547845e-01 3.19409760e-02 5.11178884e-04]\n",
      " [1.98171242e-04 3.88838307e-02 9.60917998e-01]\n",
      " [9.65055141e-01 3.43996559e-02 5.45203528e-04]\n",
      " [5.66527484e-03 8.73269385e-01 1.21065340e-01]\n",
      " [9.68116882e-01 3.13796285e-02 5.03489305e-04]\n",
      " [9.67067736e-01 3.24144522e-02 5.17811670e-04]\n",
      " [9.67419549e-01 3.20674300e-02 5.13020942e-04]\n",
      " [2.69226493e-02 9.58164510e-01 1.49128411e-02]\n",
      " [5.32656172e-04 1.02486264e-01 8.96981080e-01]\n",
      " [2.33118702e-04 4.55711079e-02 9.54195773e-01]\n",
      " [1.05462220e-02 9.59303065e-01 3.01507126e-02]\n",
      " [9.66946683e-01 3.25339288e-02 5.19388309e-04]\n",
      " [1.78204814e-03 3.34553395e-01 6.63664557e-01]\n",
      " [9.66736931e-01 3.27409508e-02 5.22117847e-04]\n",
      " [3.35318136e-02 9.52744316e-01 1.37238705e-02]\n",
      " [1.06324763e-03 2.02379761e-01 7.96556991e-01]\n",
      " [6.17171113e-03 9.00164043e-01 9.36642462e-02]\n",
      " [9.66377235e-01 3.30957074e-02 5.27057857e-04]\n",
      " [2.59163336e-04 5.05089295e-02 9.49231907e-01]\n",
      " [2.99898957e-03 5.46354489e-01 4.50646521e-01]\n",
      " [7.41746437e-03 9.35770033e-01 5.68125027e-02]\n",
      " [9.67126407e-01 3.23566968e-02 5.16895714e-04]\n",
      " [9.61793266e-01 3.76185177e-02 5.88216424e-04]\n",
      " [9.67561523e-01 3.19274370e-02 5.11039996e-04]\n",
      " [6.30355168e-02 9.25466100e-01 1.14983828e-02]\n",
      " [3.41911211e-04 6.63018009e-02 9.33356288e-01]\n",
      " [9.68544993e-01 3.09573978e-02 4.97608731e-04]\n",
      " [2.98888821e-04 5.81672138e-02 9.41533897e-01]\n",
      " [9.68448764e-01 3.10522876e-02 4.98948010e-04]\n",
      " [8.69689889e-02 9.02275521e-01 1.07554902e-02]\n",
      " [2.47874565e-02 9.59773250e-01 1.54392931e-02]\n",
      " [9.68597177e-01 3.09059320e-02 4.96891439e-04]\n",
      " [2.49363311e-02 9.59674072e-01 1.53895964e-02]\n",
      " [2.63060049e-01 7.28750615e-01 8.18933671e-03]\n",
      " [9.66371109e-01 3.31016010e-02 5.27289547e-04]\n",
      " [9.65739491e-01 3.37249970e-02 5.35512075e-04]\n",
      " [9.67857514e-01 3.16354698e-02 5.07015918e-04]\n",
      " [9.67096659e-01 3.23862002e-02 5.17141096e-04]]\n"
     ]
    },
    {
     "data": {
      "text/plain": [
       "[(4, 4), (4, 4), (4, 3)]"
      ]
     },
     "metadata": {},
     "output_type": "display_data"
    },
    {
     "data": {
      "text/plain": [
       "[array([[-0.79438684,  0.40058305,  0.24033301, -0.16390162],\n",
       "        [-0.92677552,  0.71797323,  0.57969559, -0.9075868 ],\n",
       "        [ 0.59368311, -0.60875904, -0.54577257,  0.06522654],\n",
       "        [ 0.68546725,  0.6222261 , -1.05363567,  0.01340164]]),\n",
       " array([[ 0.12456031, -0.40498905, -0.56643718, -0.23051083],\n",
       "        [-0.04146107, -0.15609992, -0.11331122,  0.19374683],\n",
       "        [-1.73078927,  1.68112059,  1.03775833, -2.3814125 ],\n",
       "        [-0.58075035,  1.27607981,  0.27885178,  1.14777461]]),\n",
       " array([[-1.32989653,  1.49624711, -0.030563  ],\n",
       "        [ 2.08618594, -0.41166522, -1.10810692],\n",
       "        [ 0.72072649, -0.0681975 , -1.01844847],\n",
       "        [-1.46584898, -1.87256753,  2.13848734]])]"
      ]
     },
     "metadata": {},
     "output_type": "display_data"
    },
    {
     "name": "stdout",
     "output_type": "stream",
     "text": [
      "Weights: None\n"
     ]
    }
   ],
   "source": [
    "#plot the exact predictions\n",
    "pred = clf_mlp.predict(iris_df_inp_test)\n",
    "print(\"Prediction:\", list(zip(*[pred, iris_df_out_test])))\n",
    "\n",
    "proba = clf_mlp.predict_proba(iris_df_inp_test)\n",
    "print(\"Prediction probabilities:\", proba)\n",
    "\n",
    "#plot the resulting weight matrix\n",
    "print(\"Weights:\", display([coef.shape for coef in clf_mlp.coefs_],  clf_mlp.coefs_))"
   ]
  },
  {
   "cell_type": "markdown",
   "metadata": {},
   "source": [
    "##### a - Empirically get familiar with the MLP, so test different layer sizes on the IRIS data. What configuration results in the best accuracy?\n",
    "In general I find (4,4) to be one of the bests hidden layer sizes. It performs > 90 on most random seeds."
   ]
  },
  {
   "cell_type": "markdown",
   "metadata": {},
   "source": [
    "##### b - Test different learning rates, momentum, and number of training iterations. How do these basic hyperparameters affect the convergence to a high accuracy? What values are best?\n",
    "A too low learning rate means we will have to do a lot more training to get where we want. A too high however means we might not be able to converge accurately enough.\n",
    "\n",
    "The momentum takes into account the previous weight changes allowing to faster converge especially in the beginning, where we might need to go a long way in some directions.\n",
    "\n",
    "The number of training iterations allows us to learn more. However too much takes longer time and can lead to overfitting.\n",
    "\n",
    "I've found 0.01 learning rate to be appropriate with 10000 iterations and 10000 batch size to allow relatively slow but controlled learning. Any smaller lead to worse performance probably because we got stuck in a local minima. Higher also performed worse probably because we took to big steps."
   ]
  }
 ],
 "metadata": {
  "kernelspec": {
   "display_name": "Python 3.10.4 ('AML')",
   "language": "python",
   "name": "python3"
  },
  "language_info": {
   "codemirror_mode": {
    "name": "ipython",
    "version": 3
   },
   "file_extension": ".py",
   "mimetype": "text/x-python",
   "name": "python",
   "nbconvert_exporter": "python",
   "pygments_lexer": "ipython3",
   "version": "3.10.4"
  },
  "vscode": {
   "interpreter": {
    "hash": "20afb3d869327389044feed7fefb9b458eb6296b59bc368887fba7799b57fd31"
   }
  }
 },
 "nbformat": 4,
 "nbformat_minor": 1
}
