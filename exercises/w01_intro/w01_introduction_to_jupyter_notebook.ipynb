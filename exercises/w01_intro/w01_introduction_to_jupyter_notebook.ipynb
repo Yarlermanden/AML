{
 "cells": [
  {
   "cell_type": "markdown",
   "source": [
    "# Exercise 1.1: Introduction\n",
    "\n",
    "Advanced Machine Learning for KCS\n",
    "\n",
    "by Stefan Heinrich, Stella Grasshof, Laura Weihl\n",
    "with material by Kevin Murphy\n",
    "\n",
    "All info and static material: https://learnit.itu.dk/course/view.php?id=3021295\n",
    "\n",
    "-------------------------------------------------------------------------------"
   ],
   "metadata": {
    "collapsed": false,
    "pycharm": {
     "name": "#%% md\n"
    }
   }
  },
  {
   "cell_type": "markdown",
   "source": [
    "## Introduction to Jupyter Notebook\n",
    "\n",
    "### Jupyter notebook is an easy tool for code development and result sharing\n",
    "\n",
    "### A notebook can contain multiple cells\n",
    "#### There are 2 major types of useful cells:\n",
    "- Code cell\n",
    "> where you can really do the computation\n",
    "- Markdown cell\n",
    "> where you can add explanation to your codes.\n"
   ],
   "metadata": {
    "collapsed": false
   }
  },
  {
   "cell_type": "markdown",
   "source": [
    "### This is a markdown cell\n",
    "\n",
    "Double click on this cell, you can see the original text that generated the different formats\n",
    "\n",
    "Feel free to edit this text and see the effect\n",
    "\n",
    "### You can highlight text as bold or italic\n",
    "**BOLD** text can be produced by putting two stars \\** in front of and after the text you want to highlight\n",
    "\n",
    "*italic* text can be produced by putting a single star \\** in front of and after the text you want to highlight\n",
    "\n",
    "### You can set headers at different levels\n",
    "#### Like this"
   ],
   "metadata": {
    "collapsed": false,
    "pycharm": {
     "name": "#%% md\n"
    }
   }
  },
  {
   "cell_type": "markdown",
   "source": [
    "## You can insert an image\n",
    "![look at this](https://upload.wikimedia.org/wikipedia/commons/thumb/0/0e/Atlanta_Zoo_Panda.jpg/1200px-Atlanta_Zoo_Panda.jpg)"
   ],
   "metadata": {
    "collapsed": false
   }
  },
  {
   "cell_type": "markdown",
   "source": [
    "## You can also insert links.\n",
    "See [here](https://www.markdownguide.org/basic-syntax/) for more information of the syntax of markdown"
   ],
   "metadata": {
    "collapsed": false
   }
  },
  {
   "cell_type": "markdown",
   "source": [
    "## Below are some code cells"
   ],
   "metadata": {
    "collapsed": false
   }
  },
  {
   "cell_type": "code",
   "execution_count": null,
   "outputs": [],
   "source": [
    "print('This line is a python code')\n",
    "print('Press Shift+Enter will execute all the code within the highlighted cell and move on to the next cell.')"
   ],
   "metadata": {
    "collapsed": false,
    "pycharm": {
     "name": "#%%\n"
    }
   }
  },
  {
   "cell_type": "code",
   "execution_count": null,
   "outputs": [],
   "source": [
    "print('Press Ctrl+Enter will also execute the code but does NOT move on to the next cell.')\n",
    "print('You can execute codes for as many times as you want.')\n"
   ],
   "metadata": {
    "collapsed": false,
    "pycharm": {
     "name": "#%%\n"
    }
   }
  },
  {
   "cell_type": "code",
   "execution_count": null,
   "outputs": [],
   "source": [
    "print('Dividing your code into multiple cells allows you to easily debug each part separately')"
   ],
   "metadata": {
    "collapsed": false,
    "pycharm": {
     "name": "#%%\n"
    }
   }
  },
  {
   "cell_type": "code",
   "execution_count": null,
   "outputs": [],
   "source": [
    "# We can also do some computation\n",
    "a = 15\n",
    "b = 29\n",
    "c = a + b\n",
    "print('{} plus {} is equal to {}'.format(a, b, c))\n",
    "\n",
    "print('{x} plus {y} is equal to {sum}'.format(x=a, y=b, sum=c))"
   ],
   "metadata": {
    "collapsed": false,
    "pycharm": {
     "name": "#%%\n"
    }
   }
  },
  {
   "cell_type": "code",
   "execution_count": null,
   "outputs": [],
   "source": [
    "# We can also plot figures\n",
    "# Let's import some packages\n",
    "\n",
    "import numpy as np\n",
    "import seaborn as sns\n",
    "x = np.arange(0, 4 * np.pi, 0.1)\n",
    "y = np.sin(x)\n",
    "sns.relplot(x, y, kind='line')"
   ],
   "metadata": {
    "collapsed": false,
    "pycharm": {
     "name": "#%%\n"
    }
   }
  },
  {
   "cell_type": "code",
   "execution_count": null,
   "outputs": [],
   "source": [
    "# We can plot pictures using python command as well\n",
    "import matplotlib.pyplot as plt\n",
    "img = plt.imread('640px-Atlanta_Zoo_Panda.jpg')\n",
    "plt.imshow(img)\n",
    "plt.show()"
   ],
   "metadata": {
    "collapsed": false,
    "pycharm": {
     "name": "#%%\n"
    }
   }
  },
  {
   "cell_type": "code",
   "execution_count": null,
   "outputs": [],
   "source": [
    "# To see help functions of a command or package:\n",
    "\n",
    "help(np.linalg.lstsq)"
   ],
   "metadata": {
    "collapsed": false,
    "pycharm": {
     "name": "#%%\n"
    }
   }
  },
  {
   "cell_type": "markdown",
   "source": [
    "### You can also see helper function without printing by pressing Shift+Tab simultaneously when the cursor is inside a function's bracket\n",
    "Try to see the explanation of the following functions by this trick"
   ],
   "metadata": {
    "collapsed": false
   }
  },
  {
   "cell_type": "code",
   "execution_count": null,
   "outputs": [],
   "source": [
    "A = np.eye(3)\n",
    "B = np.random.randn(3,3)\n",
    "print('A as an identity matrix:\\n', A)\n",
    "print('a random matrix B: \\n', B)\n",
    "print('matrix product of A and B:\\n', np.dot(A, B))"
   ],
   "metadata": {
    "collapsed": false,
    "pycharm": {
     "name": "#%%\n"
    }
   }
  },
  {
   "cell_type": "code",
   "execution_count": null,
   "outputs": [],
   "source": [
    "# A good idea when editing your notebook is to ask jupyter to automatically save it occasionally\n",
    "%autosave 60"
   ],
   "metadata": {
    "collapsed": false,
    "pycharm": {
     "name": "#%%\n"
    }
   }
  },
  {
   "cell_type": "markdown",
   "source": [
    "## The % sign above is a magic of IPython. Check out more magics [here](https://ipython.readthedocs.io/en/stable/interactive/magics.html)"
   ],
   "metadata": {
    "collapsed": false
   }
  },
  {
   "cell_type": "markdown",
   "source": [
    "## The icons on the top (plus, scissor, ...) can be used to add, cut, copy, past cells. Try with the following cells"
   ],
   "metadata": {
    "collapsed": false
   }
  },
  {
   "cell_type": "code",
   "execution_count": null,
   "outputs": [],
   "source": [
    "# Remove this cell"
   ],
   "metadata": {
    "collapsed": false,
    "pycharm": {
     "name": "#%%\n"
    }
   }
  },
  {
   "cell_type": "code",
   "execution_count": null,
   "outputs": [],
   "source": [
    "# Move this cell up or down\n"
   ],
   "metadata": {
    "collapsed": false,
    "pycharm": {
     "name": "#%%\n"
    }
   }
  }
 ],
 "metadata": {
  "kernelspec": {
   "display_name": "Python 3",
   "language": "python",
   "name": "python3"
  },
  "language_info": {
   "codemirror_mode": {
    "name": "ipython",
    "version": 3
   },
   "file_extension": ".py",
   "mimetype": "text/x-python",
   "name": "python",
   "nbconvert_exporter": "python",
   "pygments_lexer": "ipython3",
   "version": "3.7.3"
  }
 },
 "nbformat": 4,
 "nbformat_minor": 4
}