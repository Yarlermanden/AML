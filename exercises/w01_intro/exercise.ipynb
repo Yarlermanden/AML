{
 "cells": [
  {
   "cell_type": "markdown",
   "metadata": {},
   "source": [
    "## Task 1: Exploratory Data Analysis Revision"
   ]
  },
  {
   "cell_type": "code",
   "execution_count": 133,
   "metadata": {},
   "outputs": [],
   "source": [
    "from IPython.display import display\n",
    "import numpy as np\n",
    "import pandas as pd\n",
    "import scipy as scp \n",
    "import matplotlib.pyplot as plt\n",
    "import seaborn as sns\n",
    "from sklearn import model_selection"
   ]
  },
  {
   "cell_type": "markdown",
   "metadata": {},
   "source": [
    "##### a.\n",
    "We load the data as pandas, transform to numpy and compare"
   ]
  },
  {
   "cell_type": "code",
   "execution_count": 134,
   "metadata": {},
   "outputs": [],
   "source": [
    "file = '../../data/bodyfat.txt'\n",
    "columns = ['Density', 'Fat', 'Age', 'Weight', 'Height', 'Neck', 'Chest', 'Abdom', 'Hip', 'Thigh', 'Knee', 'Ankle', 'Biceps', 'F-arm', 'Wrist']"
   ]
  },
  {
   "cell_type": "code",
   "execution_count": 135,
   "metadata": {},
   "outputs": [],
   "source": [
    "from string import whitespace\n",
    "\n",
    "data_pd = pd.read_csv(file, names=columns, skiprows=11, header=None, delim_whitespace=True)\n",
    "data_np = data_pd.to_numpy()"
   ]
  },
  {
   "cell_type": "code",
   "execution_count": 136,
   "metadata": {},
   "outputs": [
    {
     "data": {
      "text/plain": [
       "array([[ 1.0708, 12.3   , 23.    , ..., 32.    , 27.4   , 17.1   ],\n",
       "       [ 1.0853,  6.1   , 22.    , ..., 30.5   , 28.9   , 18.2   ],\n",
       "       [ 1.0414, 25.3   , 22.    , ..., 28.8   , 25.2   , 16.6   ],\n",
       "       ...,\n",
       "       [ 1.0328, 29.3   , 72.    , ..., 31.3   , 27.2   , 18.    ],\n",
       "       [ 1.0399, 26.    , 72.    , ..., 30.5   , 29.4   , 19.8   ],\n",
       "       [ 1.0271, 31.9   , 74.    , ..., 33.7   , 30.    , 20.9   ]])"
      ]
     },
     "execution_count": 136,
     "metadata": {},
     "output_type": "execute_result"
    }
   ],
   "source": [
    "data_np"
   ]
  },
  {
   "cell_type": "code",
   "execution_count": 137,
   "metadata": {},
   "outputs": [
    {
     "data": {
      "text/html": [
       "<div>\n",
       "<style scoped>\n",
       "    .dataframe tbody tr th:only-of-type {\n",
       "        vertical-align: middle;\n",
       "    }\n",
       "\n",
       "    .dataframe tbody tr th {\n",
       "        vertical-align: top;\n",
       "    }\n",
       "\n",
       "    .dataframe thead th {\n",
       "        text-align: right;\n",
       "    }\n",
       "</style>\n",
       "<table border=\"1\" class=\"dataframe\">\n",
       "  <thead>\n",
       "    <tr style=\"text-align: right;\">\n",
       "      <th></th>\n",
       "      <th>Density</th>\n",
       "      <th>Fat</th>\n",
       "      <th>Age</th>\n",
       "      <th>Weight</th>\n",
       "      <th>Height</th>\n",
       "      <th>Neck</th>\n",
       "      <th>Chest</th>\n",
       "      <th>Abdom</th>\n",
       "      <th>Hip</th>\n",
       "      <th>Thigh</th>\n",
       "      <th>Knee</th>\n",
       "      <th>Ankle</th>\n",
       "      <th>Biceps</th>\n",
       "      <th>F-arm</th>\n",
       "      <th>Wrist</th>\n",
       "    </tr>\n",
       "  </thead>\n",
       "  <tbody>\n",
       "    <tr>\n",
       "      <th>0</th>\n",
       "      <td>1.0708</td>\n",
       "      <td>12.3</td>\n",
       "      <td>23</td>\n",
       "      <td>154.25</td>\n",
       "      <td>67.75</td>\n",
       "      <td>36.2</td>\n",
       "      <td>93.1</td>\n",
       "      <td>85.2</td>\n",
       "      <td>94.5</td>\n",
       "      <td>59.0</td>\n",
       "      <td>37.3</td>\n",
       "      <td>21.9</td>\n",
       "      <td>32.0</td>\n",
       "      <td>27.4</td>\n",
       "      <td>17.1</td>\n",
       "    </tr>\n",
       "    <tr>\n",
       "      <th>1</th>\n",
       "      <td>1.0853</td>\n",
       "      <td>6.1</td>\n",
       "      <td>22</td>\n",
       "      <td>173.25</td>\n",
       "      <td>72.25</td>\n",
       "      <td>38.5</td>\n",
       "      <td>93.6</td>\n",
       "      <td>83.0</td>\n",
       "      <td>98.7</td>\n",
       "      <td>58.7</td>\n",
       "      <td>37.3</td>\n",
       "      <td>23.4</td>\n",
       "      <td>30.5</td>\n",
       "      <td>28.9</td>\n",
       "      <td>18.2</td>\n",
       "    </tr>\n",
       "    <tr>\n",
       "      <th>2</th>\n",
       "      <td>1.0414</td>\n",
       "      <td>25.3</td>\n",
       "      <td>22</td>\n",
       "      <td>154.00</td>\n",
       "      <td>66.25</td>\n",
       "      <td>34.0</td>\n",
       "      <td>95.8</td>\n",
       "      <td>87.9</td>\n",
       "      <td>99.2</td>\n",
       "      <td>59.6</td>\n",
       "      <td>38.9</td>\n",
       "      <td>24.0</td>\n",
       "      <td>28.8</td>\n",
       "      <td>25.2</td>\n",
       "      <td>16.6</td>\n",
       "    </tr>\n",
       "    <tr>\n",
       "      <th>3</th>\n",
       "      <td>1.0751</td>\n",
       "      <td>10.4</td>\n",
       "      <td>26</td>\n",
       "      <td>184.75</td>\n",
       "      <td>72.25</td>\n",
       "      <td>37.4</td>\n",
       "      <td>101.8</td>\n",
       "      <td>86.4</td>\n",
       "      <td>101.2</td>\n",
       "      <td>60.1</td>\n",
       "      <td>37.3</td>\n",
       "      <td>22.8</td>\n",
       "      <td>32.4</td>\n",
       "      <td>29.4</td>\n",
       "      <td>18.2</td>\n",
       "    </tr>\n",
       "    <tr>\n",
       "      <th>4</th>\n",
       "      <td>1.0340</td>\n",
       "      <td>28.7</td>\n",
       "      <td>24</td>\n",
       "      <td>184.25</td>\n",
       "      <td>71.25</td>\n",
       "      <td>34.4</td>\n",
       "      <td>97.3</td>\n",
       "      <td>100.0</td>\n",
       "      <td>101.9</td>\n",
       "      <td>63.2</td>\n",
       "      <td>42.2</td>\n",
       "      <td>24.0</td>\n",
       "      <td>32.2</td>\n",
       "      <td>27.7</td>\n",
       "      <td>17.7</td>\n",
       "    </tr>\n",
       "    <tr>\n",
       "      <th>...</th>\n",
       "      <td>...</td>\n",
       "      <td>...</td>\n",
       "      <td>...</td>\n",
       "      <td>...</td>\n",
       "      <td>...</td>\n",
       "      <td>...</td>\n",
       "      <td>...</td>\n",
       "      <td>...</td>\n",
       "      <td>...</td>\n",
       "      <td>...</td>\n",
       "      <td>...</td>\n",
       "      <td>...</td>\n",
       "      <td>...</td>\n",
       "      <td>...</td>\n",
       "      <td>...</td>\n",
       "    </tr>\n",
       "    <tr>\n",
       "      <th>247</th>\n",
       "      <td>1.0736</td>\n",
       "      <td>11.0</td>\n",
       "      <td>70</td>\n",
       "      <td>134.25</td>\n",
       "      <td>67.00</td>\n",
       "      <td>34.9</td>\n",
       "      <td>89.2</td>\n",
       "      <td>83.6</td>\n",
       "      <td>88.8</td>\n",
       "      <td>49.6</td>\n",
       "      <td>34.8</td>\n",
       "      <td>21.5</td>\n",
       "      <td>25.6</td>\n",
       "      <td>25.7</td>\n",
       "      <td>18.5</td>\n",
       "    </tr>\n",
       "    <tr>\n",
       "      <th>248</th>\n",
       "      <td>1.0236</td>\n",
       "      <td>33.6</td>\n",
       "      <td>72</td>\n",
       "      <td>201.00</td>\n",
       "      <td>69.75</td>\n",
       "      <td>40.9</td>\n",
       "      <td>108.5</td>\n",
       "      <td>105.0</td>\n",
       "      <td>104.5</td>\n",
       "      <td>59.6</td>\n",
       "      <td>40.8</td>\n",
       "      <td>23.2</td>\n",
       "      <td>35.2</td>\n",
       "      <td>28.6</td>\n",
       "      <td>20.1</td>\n",
       "    </tr>\n",
       "    <tr>\n",
       "      <th>249</th>\n",
       "      <td>1.0328</td>\n",
       "      <td>29.3</td>\n",
       "      <td>72</td>\n",
       "      <td>186.75</td>\n",
       "      <td>66.00</td>\n",
       "      <td>38.9</td>\n",
       "      <td>111.1</td>\n",
       "      <td>111.5</td>\n",
       "      <td>101.7</td>\n",
       "      <td>60.3</td>\n",
       "      <td>37.3</td>\n",
       "      <td>21.5</td>\n",
       "      <td>31.3</td>\n",
       "      <td>27.2</td>\n",
       "      <td>18.0</td>\n",
       "    </tr>\n",
       "    <tr>\n",
       "      <th>250</th>\n",
       "      <td>1.0399</td>\n",
       "      <td>26.0</td>\n",
       "      <td>72</td>\n",
       "      <td>190.75</td>\n",
       "      <td>70.50</td>\n",
       "      <td>38.9</td>\n",
       "      <td>108.3</td>\n",
       "      <td>101.3</td>\n",
       "      <td>97.8</td>\n",
       "      <td>56.0</td>\n",
       "      <td>41.6</td>\n",
       "      <td>22.7</td>\n",
       "      <td>30.5</td>\n",
       "      <td>29.4</td>\n",
       "      <td>19.8</td>\n",
       "    </tr>\n",
       "    <tr>\n",
       "      <th>251</th>\n",
       "      <td>1.0271</td>\n",
       "      <td>31.9</td>\n",
       "      <td>74</td>\n",
       "      <td>207.50</td>\n",
       "      <td>70.00</td>\n",
       "      <td>40.8</td>\n",
       "      <td>112.4</td>\n",
       "      <td>108.5</td>\n",
       "      <td>107.1</td>\n",
       "      <td>59.3</td>\n",
       "      <td>42.2</td>\n",
       "      <td>24.6</td>\n",
       "      <td>33.7</td>\n",
       "      <td>30.0</td>\n",
       "      <td>20.9</td>\n",
       "    </tr>\n",
       "  </tbody>\n",
       "</table>\n",
       "<p>252 rows × 15 columns</p>\n",
       "</div>"
      ],
      "text/plain": [
       "     Density   Fat  Age  Weight  Height  Neck  Chest  Abdom    Hip  Thigh  \\\n",
       "0     1.0708  12.3   23  154.25   67.75  36.2   93.1   85.2   94.5   59.0   \n",
       "1     1.0853   6.1   22  173.25   72.25  38.5   93.6   83.0   98.7   58.7   \n",
       "2     1.0414  25.3   22  154.00   66.25  34.0   95.8   87.9   99.2   59.6   \n",
       "3     1.0751  10.4   26  184.75   72.25  37.4  101.8   86.4  101.2   60.1   \n",
       "4     1.0340  28.7   24  184.25   71.25  34.4   97.3  100.0  101.9   63.2   \n",
       "..       ...   ...  ...     ...     ...   ...    ...    ...    ...    ...   \n",
       "247   1.0736  11.0   70  134.25   67.00  34.9   89.2   83.6   88.8   49.6   \n",
       "248   1.0236  33.6   72  201.00   69.75  40.9  108.5  105.0  104.5   59.6   \n",
       "249   1.0328  29.3   72  186.75   66.00  38.9  111.1  111.5  101.7   60.3   \n",
       "250   1.0399  26.0   72  190.75   70.50  38.9  108.3  101.3   97.8   56.0   \n",
       "251   1.0271  31.9   74  207.50   70.00  40.8  112.4  108.5  107.1   59.3   \n",
       "\n",
       "     Knee  Ankle  Biceps  F-arm  Wrist  \n",
       "0    37.3   21.9    32.0   27.4   17.1  \n",
       "1    37.3   23.4    30.5   28.9   18.2  \n",
       "2    38.9   24.0    28.8   25.2   16.6  \n",
       "3    37.3   22.8    32.4   29.4   18.2  \n",
       "4    42.2   24.0    32.2   27.7   17.7  \n",
       "..    ...    ...     ...    ...    ...  \n",
       "247  34.8   21.5    25.6   25.7   18.5  \n",
       "248  40.8   23.2    35.2   28.6   20.1  \n",
       "249  37.3   21.5    31.3   27.2   18.0  \n",
       "250  41.6   22.7    30.5   29.4   19.8  \n",
       "251  42.2   24.6    33.7   30.0   20.9  \n",
       "\n",
       "[252 rows x 15 columns]"
      ]
     },
     "execution_count": 137,
     "metadata": {},
     "output_type": "execute_result"
    }
   ],
   "source": [
    "data_pd"
   ]
  },
  {
   "cell_type": "markdown",
   "metadata": {},
   "source": [
    "##### b. What are bins and how can this parameter be used?\n",
    "Bins can determine how many bockets the data is divided into before counting. Can be seen as thresholds\n",
    "\n",
    "##### C. \n",
    "Plot histograms"
   ]
  },
  {
   "cell_type": "code",
   "execution_count": 138,
   "metadata": {},
   "outputs": [
    {
     "data": {
      "text/plain": [
       "<AxesSubplot:ylabel='Count'>"
      ]
     },
     "execution_count": 138,
     "metadata": {},
     "output_type": "execute_result"
    },
    {
     "data": {
      "image/png": "[encoded data removed]",
      "text/plain": [
       "<Figure size 432x288 with 1 Axes>"
      ]
     },
     "metadata": {
      "needs_background": "light"
     },
     "output_type": "display_data"
    }
   ],
   "source": [
    "#sns.histplot(data_pd, bins=[1, 2, 3, 4, 5])\n",
    "sns.histplot(data_pd, bins=20)\n",
    "#sns.histplot(data_pd.Density)"
   ]
  },
  {
   "cell_type": "code",
   "execution_count": 158,
   "metadata": {},
   "outputs": [
    {
     "data": {
      "text/plain": [
       "<AxesSubplot:xlabel='Fat', ylabel='Count'>"
      ]
     },
     "execution_count": 158,
     "metadata": {},
     "output_type": "execute_result"
    },
    {
     "data": {
      "image/png": "[encoded data removed]",
      "text/plain": [
       "<Figure size 432x288 with 1 Axes>"
      ]
     },
     "metadata": {
      "needs_background": "light"
     },
     "output_type": "display_data"
    }
   ],
   "source": [
    "sns.histplot(data_pd.Fat)"
   ]
  },
  {
   "cell_type": "markdown",
   "metadata": {},
   "source": [
    "##### D. Derive min, max, mean, standard deviation and compare"
   ]
  },
  {
   "cell_type": "code",
   "execution_count": 139,
   "metadata": {},
   "outputs": [
    {
     "data": {
      "text/html": [
       "<div>\n",
       "<style scoped>\n",
       "    .dataframe tbody tr th:only-of-type {\n",
       "        vertical-align: middle;\n",
       "    }\n",
       "\n",
       "    .dataframe tbody tr th {\n",
       "        vertical-align: top;\n",
       "    }\n",
       "\n",
       "    .dataframe thead th {\n",
       "        text-align: right;\n",
       "    }\n",
       "</style>\n",
       "<table border=\"1\" class=\"dataframe\">\n",
       "  <thead>\n",
       "    <tr style=\"text-align: right;\">\n",
       "      <th></th>\n",
       "      <th>Density</th>\n",
       "      <th>Fat</th>\n",
       "      <th>Age</th>\n",
       "      <th>Weight</th>\n",
       "      <th>Height</th>\n",
       "      <th>Neck</th>\n",
       "      <th>Chest</th>\n",
       "      <th>Abdom</th>\n",
       "      <th>Hip</th>\n",
       "      <th>Thigh</th>\n",
       "      <th>Knee</th>\n",
       "      <th>Ankle</th>\n",
       "      <th>Biceps</th>\n",
       "      <th>F-arm</th>\n",
       "      <th>Wrist</th>\n",
       "    </tr>\n",
       "  </thead>\n",
       "  <tbody>\n",
       "    <tr>\n",
       "      <th>count</th>\n",
       "      <td>252.000000</td>\n",
       "      <td>252.000000</td>\n",
       "      <td>252.000000</td>\n",
       "      <td>252.000000</td>\n",
       "      <td>252.000000</td>\n",
       "      <td>252.000000</td>\n",
       "      <td>252.000000</td>\n",
       "      <td>252.000000</td>\n",
       "      <td>252.000000</td>\n",
       "      <td>252.000000</td>\n",
       "      <td>252.000000</td>\n",
       "      <td>252.000000</td>\n",
       "      <td>252.000000</td>\n",
       "      <td>252.000000</td>\n",
       "      <td>252.000000</td>\n",
       "    </tr>\n",
       "    <tr>\n",
       "      <th>mean</th>\n",
       "      <td>1.055574</td>\n",
       "      <td>19.150794</td>\n",
       "      <td>44.884921</td>\n",
       "      <td>178.924405</td>\n",
       "      <td>70.148810</td>\n",
       "      <td>37.992063</td>\n",
       "      <td>100.824206</td>\n",
       "      <td>92.555952</td>\n",
       "      <td>99.904762</td>\n",
       "      <td>59.405952</td>\n",
       "      <td>38.590476</td>\n",
       "      <td>23.102381</td>\n",
       "      <td>32.273413</td>\n",
       "      <td>28.663889</td>\n",
       "      <td>18.229762</td>\n",
       "    </tr>\n",
       "    <tr>\n",
       "      <th>std</th>\n",
       "      <td>0.019031</td>\n",
       "      <td>8.368740</td>\n",
       "      <td>12.602040</td>\n",
       "      <td>29.389160</td>\n",
       "      <td>3.662856</td>\n",
       "      <td>2.430913</td>\n",
       "      <td>8.430476</td>\n",
       "      <td>10.783077</td>\n",
       "      <td>7.164058</td>\n",
       "      <td>5.249952</td>\n",
       "      <td>2.411805</td>\n",
       "      <td>1.694893</td>\n",
       "      <td>3.021274</td>\n",
       "      <td>2.020691</td>\n",
       "      <td>0.933585</td>\n",
       "    </tr>\n",
       "    <tr>\n",
       "      <th>min</th>\n",
       "      <td>0.995000</td>\n",
       "      <td>0.000000</td>\n",
       "      <td>22.000000</td>\n",
       "      <td>118.500000</td>\n",
       "      <td>29.500000</td>\n",
       "      <td>31.100000</td>\n",
       "      <td>79.300000</td>\n",
       "      <td>69.400000</td>\n",
       "      <td>85.000000</td>\n",
       "      <td>47.200000</td>\n",
       "      <td>33.000000</td>\n",
       "      <td>19.100000</td>\n",
       "      <td>24.800000</td>\n",
       "      <td>21.000000</td>\n",
       "      <td>15.800000</td>\n",
       "    </tr>\n",
       "    <tr>\n",
       "      <th>25%</th>\n",
       "      <td>1.041400</td>\n",
       "      <td>12.475000</td>\n",
       "      <td>35.750000</td>\n",
       "      <td>159.000000</td>\n",
       "      <td>68.250000</td>\n",
       "      <td>36.400000</td>\n",
       "      <td>94.350000</td>\n",
       "      <td>84.575000</td>\n",
       "      <td>95.500000</td>\n",
       "      <td>56.000000</td>\n",
       "      <td>36.975000</td>\n",
       "      <td>22.000000</td>\n",
       "      <td>30.200000</td>\n",
       "      <td>27.300000</td>\n",
       "      <td>17.600000</td>\n",
       "    </tr>\n",
       "    <tr>\n",
       "      <th>50%</th>\n",
       "      <td>1.054900</td>\n",
       "      <td>19.200000</td>\n",
       "      <td>43.000000</td>\n",
       "      <td>176.500000</td>\n",
       "      <td>70.000000</td>\n",
       "      <td>38.000000</td>\n",
       "      <td>99.650000</td>\n",
       "      <td>90.950000</td>\n",
       "      <td>99.300000</td>\n",
       "      <td>59.000000</td>\n",
       "      <td>38.500000</td>\n",
       "      <td>22.800000</td>\n",
       "      <td>32.050000</td>\n",
       "      <td>28.700000</td>\n",
       "      <td>18.300000</td>\n",
       "    </tr>\n",
       "    <tr>\n",
       "      <th>75%</th>\n",
       "      <td>1.070400</td>\n",
       "      <td>25.300000</td>\n",
       "      <td>54.000000</td>\n",
       "      <td>197.000000</td>\n",
       "      <td>72.250000</td>\n",
       "      <td>39.425000</td>\n",
       "      <td>105.375000</td>\n",
       "      <td>99.325000</td>\n",
       "      <td>103.525000</td>\n",
       "      <td>62.350000</td>\n",
       "      <td>39.925000</td>\n",
       "      <td>24.000000</td>\n",
       "      <td>34.325000</td>\n",
       "      <td>30.000000</td>\n",
       "      <td>18.800000</td>\n",
       "    </tr>\n",
       "    <tr>\n",
       "      <th>max</th>\n",
       "      <td>1.108900</td>\n",
       "      <td>47.500000</td>\n",
       "      <td>81.000000</td>\n",
       "      <td>363.150000</td>\n",
       "      <td>77.750000</td>\n",
       "      <td>51.200000</td>\n",
       "      <td>136.200000</td>\n",
       "      <td>148.100000</td>\n",
       "      <td>147.700000</td>\n",
       "      <td>87.300000</td>\n",
       "      <td>49.100000</td>\n",
       "      <td>33.900000</td>\n",
       "      <td>45.000000</td>\n",
       "      <td>34.900000</td>\n",
       "      <td>21.400000</td>\n",
       "    </tr>\n",
       "  </tbody>\n",
       "</table>\n",
       "</div>"
      ],
      "text/plain": [
       "          Density         Fat         Age      Weight      Height        Neck  \\\n",
       "count  252.000000  252.000000  252.000000  252.000000  252.000000  252.000000   \n",
       "mean     1.055574   19.150794   44.884921  178.924405   70.148810   37.992063   \n",
       "std      0.019031    8.368740   12.602040   29.389160    3.662856    2.430913   \n",
       "min      0.995000    0.000000   22.000000  118.500000   29.500000   31.100000   \n",
       "25%      1.041400   12.475000   35.750000  159.000000   68.250000   36.400000   \n",
       "50%      1.054900   19.200000   43.000000  176.500000   70.000000   38.000000   \n",
       "75%      1.070400   25.300000   54.000000  197.000000   72.250000   39.425000   \n",
       "max      1.108900   47.500000   81.000000  363.150000   77.750000   51.200000   \n",
       "\n",
       "            Chest       Abdom         Hip       Thigh        Knee       Ankle  \\\n",
       "count  252.000000  252.000000  252.000000  252.000000  252.000000  252.000000   \n",
       "mean   100.824206   92.555952   99.904762   59.405952   38.590476   23.102381   \n",
       "std      8.430476   10.783077    7.164058    5.249952    2.411805    1.694893   \n",
       "min     79.300000   69.400000   85.000000   47.200000   33.000000   19.100000   \n",
       "25%     94.350000   84.575000   95.500000   56.000000   36.975000   22.000000   \n",
       "50%     99.650000   90.950000   99.300000   59.000000   38.500000   22.800000   \n",
       "75%    105.375000   99.325000  103.525000   62.350000   39.925000   24.000000   \n",
       "max    136.200000  148.100000  147.700000   87.300000   49.100000   33.900000   \n",
       "\n",
       "           Biceps       F-arm       Wrist  \n",
       "count  252.000000  252.000000  252.000000  \n",
       "mean    32.273413   28.663889   18.229762  \n",
       "std      3.021274    2.020691    0.933585  \n",
       "min     24.800000   21.000000   15.800000  \n",
       "25%     30.200000   27.300000   17.600000  \n",
       "50%     32.050000   28.700000   18.300000  \n",
       "75%     34.325000   30.000000   18.800000  \n",
       "max     45.000000   34.900000   21.400000  "
      ]
     },
     "execution_count": 139,
     "metadata": {},
     "output_type": "execute_result"
    }
   ],
   "source": [
    "data_pd.describe()"
   ]
  },
  {
   "cell_type": "markdown",
   "metadata": {},
   "source": [
    "## Task 2: Theory"
   ]
  },
  {
   "cell_type": "markdown",
   "metadata": {},
   "source": [
    "#### a. \n",
    "\n",
    "i. f(x) = x^T * x\n",
    "$$\n",
    "f(x) = \\begin{bmatrix}x_1 & x_2\\end{bmatrix} \\cdot \\begin{bmatrix}x_1 \\\\ x_2 \\end{bmatrix} = x_1^2 + x_2^2 \n",
    "$$\n",
    "$$\n",
    "\\nabla f(x) = \\begin{bmatrix} \\frac{\\partial x_1^2 + x_2^2} {\\partial x_1} \\\\ \\frac{\\partial x_1^2 + x_2^2}{\\partial x_2} \\end{bmatrix}\n",
    "$$\n",
    "$$\n",
    "\\nabla f(x) = \\begin{bmatrix} 2x_1 \\\\ 2x_2 \\end{bmatrix}\n",
    "$$\n",
    "\n"
   ]
  },
  {
   "cell_type": "markdown",
   "metadata": {},
   "source": [
    "ii. g(x) = x^T Ax\n",
    "$$\n",
    "g(x) = \\begin{bmatrix}x_1 & x_2\\end{bmatrix} \\cdot \\begin{bmatrix} a_{11} & a_{12} \\\\ a_{21} & a_{22} \\end{bmatrix} \\begin{bmatrix} x_1 \\\\ x_2 \\end{bmatrix} = \n",
    "\\begin{bmatrix} x_1a_{11} + x_2a_{21} && x_1a_{12} + x_2a_{22}\\end{bmatrix} \\cdot \\begin{bmatrix} x_1 \\\\ x_2 \\end{bmatrix}\n",
    "= x_1^2a_{11} + x_1x_2a_{21} + x_1x_2a_{12} + x_2^2a_{22}\n",
    "$$"
   ]
  },
  {
   "cell_type": "markdown",
   "metadata": {},
   "source": [
    "$$\n",
    "\\nabla g(x) = \\begin{bmatrix} \\frac{\\partial x_1^2a_{11} + x_1x_2a_{21} + x_1x_2a_{12} + x_2^2a_{22}}{\\partial x_1} && \\frac{\\partial x_1^2a_{11} + x_1x_2a_{21} + x_1x_2a_{12} + x_2^2a_{22}}{\\partial x_2} \\end{bmatrix}\n",
    "$$\n",
    "$$\n",
    "\\nabla g(x) = \\begin{bmatrix} 2x_1 a_{11} + x_2 a_{21} + x_2 a_{12} && x_1 a_{21} + x_1 a_{12} + 2x_2a_{22} \\end{bmatrix}\n",
    "$$"
   ]
  },
  {
   "cell_type": "markdown",
   "metadata": {},
   "source": [
    "iii. h(A) = x^T Ax\n",
    "$$\n",
    "\\nabla g(x) = \\begin{bmatrix} x^2_1 && x_1x_2 \\\\ x_1x_2 && x^2_2 \\end{bmatrix}\n",
    "$$"
   ]
  },
  {
   "cell_type": "markdown",
   "metadata": {},
   "source": [
    "#### b.\n",
    "show that \n",
    "$\n",
    "||A||^2_F = tr(A^T A)\n",
    "$"
   ]
  },
  {
   "cell_type": "markdown",
   "metadata": {},
   "source": [
    "$$\n",
    "||A||^2_F = \\sum_{i,j}(a_{ij})^2 = a_{11}^2 + a_{12}^2 +  a_{21}^2 + a_{22}^2\n",
    "$$\n",
    "$$\n",
    "tr(A) = \\sum_{i,j}(a_{ij})\n",
    "$$\n",
    "$$\n",
    "A^T \\cdot A = \\begin{bmatrix} a_{11} && a_{21} \\\\ a_{12} && a_{22} \\end{bmatrix} \\cdot \\begin{bmatrix} a_{11} && a_{12} \\\\ a_{21} && a_{22} \\end{bmatrix} = \n",
    "%\\begin{bmatrix}  a_{11}^2+a_{12}^2 \\\\ a_{21}^2 + a_{22}^2 \\end{bmatrix} \n",
    "$$\n",
    "$$\n",
    "tr(A^TA) = a_{11}^2 + a_{12}^2 + a_{21}^2 + a_{22}^2\n",
    "$$"
   ]
  },
  {
   "cell_type": "markdown",
   "metadata": {},
   "source": [
    "## Task 3: Linear Regression\n",
    "##### a. \n",
    "We predict 'fat' using 'Abdomen' from all samples as:\n",
    "$\n",
    "y = w_0 + w_1x + \\epsilon\n",
    "$"
   ]
  },
  {
   "cell_type": "code",
   "execution_count": 140,
   "metadata": {},
   "outputs": [],
   "source": [
    "def get_w_from_x_y(X, y):\n",
    "    Xt = X.T\n",
    "    return np.linalg.inv(Xt@X)@Xt@y"
   ]
  },
  {
   "cell_type": "code",
   "execution_count": 141,
   "metadata": {},
   "outputs": [
    {
     "data": {
      "text/plain": [
       "array([-39.28018466,   0.63130438])"
      ]
     },
     "execution_count": 141,
     "metadata": {},
     "output_type": "execute_result"
    }
   ],
   "source": [
    "x = data_pd.Abdom\n",
    "#X = np.column_stack((np.ones(len(x)), x))\n",
    "X = np.c_[np.ones(len(x)), x]\n",
    "y = data_pd.Fat\n",
    "w = get_w_from_x_y(X, y)\n",
    "w"
   ]
  },
  {
   "cell_type": "markdown",
   "metadata": {},
   "source": [
    "We plot the data and the regression line.\n",
    "We find the estimated parameters of w_0 to be -39 and w_1 to be 0.63"
   ]
  },
  {
   "cell_type": "code",
   "execution_count": 142,
   "metadata": {},
   "outputs": [
    {
     "data": {
      "image/png": "[encoded data removed]",
      "text/plain": [
       "<Figure size 432x288 with 1 Axes>"
      ]
     },
     "metadata": {
      "needs_background": "light"
     },
     "output_type": "display_data"
    }
   ],
   "source": [
    "#Residual plot\n",
    "x_pred = np.linspace(70, 140, 150)\n",
    "y_pred = w[0] + x_pred*w[1]\n",
    "plt.scatter(x, y)\n",
    "plt.plot(x_pred, y_pred)\n",
    "plt.show()"
   ]
  },
  {
   "cell_type": "markdown",
   "metadata": {},
   "source": [
    "##### b. \n",
    "Using 90% as training data and 10% as test, we estimate the parameters\n",
    "i. using Abdomen\n",
    "ii. using columns 3 to 15"
   ]
  },
  {
   "cell_type": "code",
   "execution_count": 143,
   "metadata": {},
   "outputs": [],
   "source": [
    "(train_data, test_data) = model_selection.train_test_split(data_pd, train_size=0.90)\n",
    "train_data_np = train_data.to_numpy()\n",
    "x1 = train_data.Abdom\n",
    "y = train_data.Fat\n",
    "X1 = np.c_[np.ones(len(x1)), x1]\n",
    "W1 = get_w_from_x_y(X1, y)\n",
    "\n",
    "X2 = np.c_[np.ones(len(x1)), train_data_np[:, 3:15]]\n",
    "W2 = get_w_from_x_y(X2, y)"
   ]
  },
  {
   "cell_type": "markdown",
   "metadata": {},
   "source": [
    "We predict:"
   ]
  },
  {
   "cell_type": "code",
   "execution_count": 144,
   "metadata": {},
   "outputs": [],
   "source": [
    "y1_pred_train = W1[0] + train_data.Abdom * W1[1]\n",
    "y1_pred_test = W1[0] + test_data.Abdom * W1[1]\n",
    "y2_pred_train = W2[0] + W2[1] * train_data.Age + W2[2] * train_data.Weight + W2[3] * train_data.Height + W2[4] * train_data.Neck + W2[5] * train_data.Chest + W2[6] * train_data.Chest + W2[7] * train_data.Abdom + W2[8] * train_data.Hip + W2[9] * train_data.Thigh + W2[10] * train_data.Knee + W2[11] * train_data.Ankle + W2[12] * train_data.Biceps\n",
    "y2_pred_test = W2[0] + W2[1] * test_data.Age + W2[2] * test_data.Weight + W2[3] * test_data.Height + W2[4] * test_data.Neck + W2[5] * test_data.Chest + W2[6] * test_data.Chest + W2[7] * test_data.Abdom + W2[8] * test_data.Hip + W2[9] * test_data.Thigh + W2[10] * test_data.Knee + W2[11] * test_data.Ankle + W2[12] * test_data.Biceps"
   ]
  },
  {
   "cell_type": "markdown",
   "metadata": {},
   "source": [
    "##### C.\n",
    "We plot the regression lines for M1"
   ]
  },
  {
   "cell_type": "code",
   "execution_count": 145,
   "metadata": {},
   "outputs": [],
   "source": [
    "x_pred = np.linspace(60, 150, 150)\n",
    "y1_pred = W1[0] + x_pred * W1[1]\n",
    "\n",
    "#we keep all variables constant at mean except for abdom\n",
    "y2_pred = W2[0] + W2[1] * train_data.Age.mean() + W2[2] * train_data.Weight.mean() + W2[3] * train_data.Height.mean() + W2[4] * train_data.Neck.mean() + W2[5] * train_data.Chest.mean() + W2[6] * train_data.Chest.mean() + W2[7] * x_pred + W2[8] * train_data.Hip.mean() + W2[9] * train_data.Thigh.mean() + W2[10] * train_data.Knee.mean() + W2[11] * train_data.Ankle.mean() + W2[12] * train_data.Biceps.mean()"
   ]
  },
  {
   "cell_type": "code",
   "execution_count": 146,
   "metadata": {},
   "outputs": [
    {
     "data": {
      "image/png": "[encoded data removed]",
      "text/plain": [
       "<Figure size 432x288 with 1 Axes>"
      ]
     },
     "metadata": {
      "needs_background": "light"
     },
     "output_type": "display_data"
    }
   ],
   "source": [
    "#residual plot of M1\n",
    "plt.scatter(x1, y, color = \"blue\")\n",
    "plt.scatter(test_data.Abdom, test_data.Fat, color = \"red\")\n",
    "plt.legend(('train', 'test'))\n",
    "plt.plot(x_pred, y1_pred)\n",
    "plt.show()"
   ]
  },
  {
   "cell_type": "markdown",
   "metadata": {},
   "source": [
    "We plot the regression lines for M2"
   ]
  },
  {
   "cell_type": "code",
   "execution_count": 147,
   "metadata": {},
   "outputs": [
    {
     "data": {
      "image/png": "[encoded data removed]",
      "text/plain": [
       "<Figure size 432x288 with 1 Axes>"
      ]
     },
     "metadata": {
      "needs_background": "light"
     },
     "output_type": "display_data"
    }
   ],
   "source": [
    "#plot M2\n",
    "plt.scatter(x1, y, color = \"blue\")\n",
    "plt.scatter(test_data.Abdom, test_data.Fat, color = \"red\")\n",
    "plt.legend(('train', 'test'))\n",
    "plt.plot(x_pred, y2_pred)\n",
    "plt.show()"
   ]
  },
  {
   "cell_type": "markdown",
   "metadata": {},
   "source": [
    "The parameters of M1 and M2 can be seen above\n"
   ]
  },
  {
   "cell_type": "code",
   "execution_count": 148,
   "metadata": {},
   "outputs": [
    {
     "name": "stdout",
     "output_type": "stream",
     "text": [
      "Variables of M1:  [-39.40695623   0.63337414]\n",
      "Variables of M2:  [-16.94631258  -0.09808747  -0.10393151  -0.41012668  -0.04188967\n",
      "   1.02713889  -0.28404812   0.1947266    0.15990739  -0.13790277\n",
      "   0.17926941   0.38451343  -0.94330347]\n"
     ]
    }
   ],
   "source": [
    "print(\"Variables of M1: \", W1)\n",
    "print(\"Variables of M2: \", W2)"
   ]
  },
  {
   "cell_type": "code",
   "execution_count": 149,
   "metadata": {},
   "outputs": [],
   "source": [
    "from math import log\n",
    "\n",
    "def RMSE(y_pred, y_gt):\n",
    "    y_error = y_pred - y_gt \n",
    "    y_square_error = y_error * y_error\n",
    "    y_MSE = y_square_error.mean()\n",
    "    y_RMSE = log(y_MSE)\n",
    "    return y_RMSE\n"
   ]
  },
  {
   "cell_type": "code",
   "execution_count": 150,
   "metadata": {},
   "outputs": [
    {
     "name": "stdout",
     "output_type": "stream",
     "text": [
      "M1 train RMSE:  3.172101135860039\n",
      "M1 test RMSE:  3.064177157481543\n",
      "M2 train RMSE:  3.9568445089661926\n",
      "M2 test RMSE:  3.8154383937457395\n"
     ]
    }
   ],
   "source": [
    "#RMSE\n",
    "y_groundtruth_train = train_data.Fat\n",
    "rmse_train = RMSE(y1_pred_train, y_groundtruth_train)\n",
    "print(\"M1 train RMSE: \", rmse_train)\n",
    "\n",
    "y_groundtruth_test = test_data.Fat\n",
    "rmse_test = RMSE(y1_pred_test, y_groundtruth_test)\n",
    "print(\"M1 test RMSE: \", rmse_test)\n",
    "\n",
    "rmse_train2 = RMSE(y2_pred_train, y_groundtruth_train)\n",
    "print(\"M2 train RMSE: \", rmse_train2)\n",
    "\n",
    "rmse_test2 = RMSE(y2_pred_test, y_groundtruth_test)\n",
    "print(\"M2 test RMSE: \", rmse_test2)"
   ]
  },
  {
   "cell_type": "markdown",
   "metadata": {},
   "source": [
    "We find the RMSE on training and test set to be really close and actually a bit less on the test data."
   ]
  },
  {
   "cell_type": "markdown",
   "metadata": {},
   "source": [
    "We now plot the predicted y compared to actual y values for M1 and M2\n",
    "\n",
    "This shows the correlations between actual y and the estimated y."
   ]
  },
  {
   "cell_type": "code",
   "execution_count": 152,
   "metadata": {},
   "outputs": [
    {
     "data": {
      "image/png": "[encoded data removed]",
      "text/plain": [
       "<Figure size 432x288 with 1 Axes>"
      ]
     },
     "metadata": {
      "needs_background": "light"
     },
     "output_type": "display_data"
    }
   ],
   "source": [
    "line = np.linspace(0, 40, 50)\n",
    "\n",
    "plt.scatter(y1_pred_train, y_groundtruth_train, color = \"blue\")\n",
    "plt.scatter(y1_pred_test, y_groundtruth_test, color = \"red\")\n",
    "plt.plot(line, line)\n",
    "plt.show()"
   ]
  },
  {
   "cell_type": "code",
   "execution_count": 153,
   "metadata": {},
   "outputs": [
    {
     "data": {
      "image/png": "[encoded data removed]",
      "text/plain": [
       "<Figure size 432x288 with 1 Axes>"
      ]
     },
     "metadata": {
      "needs_background": "light"
     },
     "output_type": "display_data"
    }
   ],
   "source": [
    "plt.scatter(y2_pred_train, y_groundtruth_train, color = \"blue\")\n",
    "plt.scatter(y2_pred_test, y_groundtruth_test, color = \"red\")\n",
    "plt.legend(('train', 'test'))\n",
    "plt.plot(line, line)\n",
    "plt.show()\n",
    "#add labels to x and y axis!!"
   ]
  },
  {
   "cell_type": "markdown",
   "metadata": {},
   "source": [
    "This shows that on average we predict smaller values than groundtruth, as the x values are smaller than the y values"
   ]
  },
  {
   "cell_type": "markdown",
   "metadata": {},
   "source": [
    "##### d.\n",
    "Comparing M1 and M2 on criteria: RMSE and ...\n",
    "\n",
    "We see the RMSE being lower for M1. "
   ]
  },
  {
   "cell_type": "markdown",
   "metadata": {},
   "source": [
    "Looking at the two plots above of the distribution of predicted y's compared to actualy y's, we see M1 seems to be more normally distributed around the line."
   ]
  },
  {
   "cell_type": "markdown",
   "metadata": {},
   "source": [
    "Look at RMSE\n",
    "\n",
    "Plot the distribution of errors - good for looking at outliers, but most likely not really relevant for here."
   ]
  },
  {
   "cell_type": "code",
   "execution_count": 156,
   "metadata": {},
   "outputs": [
    {
     "data": {
      "image/png": "[encoded data removed]",
      "text/plain": [
       "<Figure size 432x288 with 1 Axes>"
      ]
     },
     "metadata": {
      "needs_background": "light"
     },
     "output_type": "display_data"
    }
   ],
   "source": [
    "error1 = y1_pred_train - y_groundtruth_train \n",
    "error_test1 = y1_pred_test - y_groundtruth_test\n",
    "plt.scatter(y_groundtruth_train, error1)\n",
    "plt.scatter(y_groundtruth_test, error_test1)\n",
    "plt.show()"
   ]
  },
  {
   "cell_type": "code",
   "execution_count": 157,
   "metadata": {},
   "outputs": [
    {
     "data": {
      "image/png": "[encoded data removed]",
      "text/plain": [
       "<Figure size 432x288 with 1 Axes>"
      ]
     },
     "metadata": {
      "needs_background": "light"
     },
     "output_type": "display_data"
    }
   ],
   "source": [
    "error2 = y2_pred_train - y_groundtruth_train\n",
    "error_test2 = y2_pred_test - y_groundtruth_test\n",
    "plt.scatter(y_groundtruth_train, error2)\n",
    "plt.scatter(y_groundtruth_test, error_test2)\n",
    "plt.show()"
   ]
  },
  {
   "cell_type": "markdown",
   "metadata": {},
   "source": [
    "For both there seem to be a trend, meaning there would be some function explaining the error... We want it to be normally distributed with mean zero and some variance.\n",
    "\n",
    "We could therefore try to predict using regularizers such as ridge regression.\n",
    "\n",
    "Could look at R^2"
   ]
  }
 ],
 "metadata": {
  "kernelspec": {
   "display_name": "Python 3.10.4 ('AML')",
   "language": "python",
   "name": "python3"
  },
  "language_info": {
   "codemirror_mode": {
    "name": "ipython",
    "version": 3
   },
   "file_extension": ".py",
   "mimetype": "text/x-python",
   "name": "python",
   "nbconvert_exporter": "python",
   "pygments_lexer": "ipython3",
   "version": "3.10.4"
  },
  "orig_nbformat": 4,
  "vscode": {
   "interpreter": {
    "hash": "20afb3d869327389044feed7fefb9b458eb6296b59bc368887fba7799b57fd31"
   }
  }
 },
 "nbformat": 4,
 "nbformat_minor": 2
}
