{
 "cells": [
  {
   "cell_type": "markdown",
   "metadata": {
    "collapsed": true,
    "pycharm": {
     "name": "#%% md\n"
    }
   },
   "source": [
    "# Exercise 1.1: Introduction\n",
    "\n",
    "Advanced Machine Learning for KCS\n",
    "\n",
    "by Stefan Heinrich, Stella Grasshof, Laura Weihl\n",
    "with material by Kevin Murphy\n",
    "\n",
    "All info and static material: https://learnit.itu.dk/course/view.php?id=3021295\n",
    "\n",
    "-------------------------------------------------------------------------------"
   ]
  },
  {
   "cell_type": "markdown",
   "source": [
    "## Revision of dataset visualisation with key python packages"
   ],
   "metadata": {
    "collapsed": false,
    "pycharm": {
     "name": "#%% md\n"
    }
   }
  },
  {
   "cell_type": "code",
   "execution_count": 1,
   "metadata": {
    "pycharm": {
     "name": "#%% Import libraries\n"
    }
   },
   "outputs": [],
   "source": [
    "from IPython.display import display\n",
    "import numpy as np\n",
    "import pandas as pd\n",
    "import scipy as scp \n",
    "import matplotlib.pyplot as plt\n",
    "import seaborn as sns\n"
   ]
  },
  {
   "cell_type": "markdown",
   "metadata": {},
   "source": [
    "#### Load Iris dataset\n",
    "\n",
    "https://archive.ics.uci.edu/ml/datasets/iris"
   ]
  },
  {
   "cell_type": "code",
   "execution_count": 2,
   "metadata": {
    "pycharm": {
     "name": "#%%\n"
    }
   },
   "outputs": [],
   "source": [
    "iris_file = \"../../data/iris.csv\"\n",
    "iris_url = \"https://archive.ics.uci.edu/ml/machine-learning-databases/iris/iris.data\"\n",
    "iris_names_input = names=['sepal length (cm)', 'sepal width (cm)', \n",
    "                          'petal length (cm)', 'petal width (cm)', 'target']\n"
   ]
  },
  {
   "cell_type": "markdown",
   "metadata": {
    "pycharm": {
     "name": "#%% md\n"
    }
   },
   "source": [
    "#### Load iris dataset as numpy ndarray\n",
    "\n",
    "Task: briefly experiment with different scopes on the data \n",
    "\n",
    "https://docs.scipy.org/doc/numpy/reference/generated/numpy.ndarray.html\n"
   ]
  },
  {
   "cell_type": "code",
   "execution_count": 3,
   "metadata": {
    "pycharm": {
     "name": "#%%\n"
    }
   },
   "outputs": [
    {
     "name": "stdout",
     "output_type": "stream",
     "text": [
      "[('sepal_length_cm', '<f8'), ('sepal_width_cm', '<f8'), ('petal_length_cm', '<f8'), ('petal_width_cm', '<f8'), ('target', '<U15')]\n",
      "[(5.1, 3.5, 1.4, 0.2, 'Iris-setosa') (4.9, 3. , 1.4, 0.2, 'Iris-setosa')\n",
      " (4.7, 3.2, 1.3, 0.2, 'Iris-setosa') (4.6, 3.1, 1.5, 0.2, 'Iris-setosa')\n",
      " (5. , 3.6, 1.4, 0.2, 'Iris-setosa') (5.4, 3.9, 1.7, 0.4, 'Iris-setosa')\n",
      " (4.6, 3.4, 1.4, 0.3, 'Iris-setosa') (5. , 3.4, 1.5, 0.2, 'Iris-setosa')]\n",
      "float64 \n",
      "\n",
      "[[5.1 3.5 1.4 0.2]\n",
      " [4.9 3.  1.4 0.2]\n",
      " [4.7 3.2 1.3 0.2]\n",
      " [4.6 3.1 1.5 0.2]\n",
      " [5.  3.6 1.4 0.2]\n",
      " [5.4 3.9 1.7 0.4]\n",
      " [4.6 3.4 1.4 0.3]\n",
      " [5.  3.4 1.5 0.2]] \n",
      "\n",
      "['Iris-setosa', 'Iris-setosa', 'Iris-setosa', 'Iris-setosa', 'Iris-setosa', 'Iris-setosa', 'Iris-setosa', 'Iris-setosa'] \n",
      "\n",
      "[0 0 0 0 0 0 0 0]\n"
     ]
    }
   ],
   "source": [
    "iris_data_np = np.genfromtxt(iris_file, delimiter=',', \n",
    "                        dtype=[np.float, np.float, np.float, np.float, 'U15'],\n",
    "                        names=iris_names_input)\n",
    "# problem: since data types are mixed, \n",
    "# the numpy array is not a 2D matrix, but a list of tuples\n",
    "print(iris_data_np.dtype)\n",
    "print(iris_data_np[:8])\n",
    "\n",
    "# we need to select all variables of the same type do cast an numpy array that returns a matrix\n",
    "iris_data_np_inputs = np.array([d[:-1] for d in iris_data_np.tolist()])\n",
    "iris_data_np_targets = [d[-1] for d in iris_data_np.tolist()]\n",
    "print(iris_data_np_inputs.dtype, \"\\n\")\n",
    "print(iris_data_np_inputs[:8], \"\\n\")\n",
    "print(iris_data_np_targets[:8], \"\\n\")\n",
    "\n",
    "# conversion from labels to ids is a bit complicated\n",
    "iris_classes = sorted(set(iris_data_np_targets))\n",
    "iris_classes_dict = {iris_classes[i]:i for i in range(len(iris_classes))}\n",
    "iris_data_np_targets_ids = np.array([iris_classes_dict[t] for t in iris_data_np_targets])\n",
    "print(iris_data_np_targets_ids[:8])   \n"
   ]
  },
  {
   "cell_type": "markdown",
   "metadata": {},
   "source": [
    "#### Load iris dataset as pandas dataframe\n",
    "\n",
    "Task: learn + test different properties of dataframes - accessing & indexing, \n",
    "conversion, computations & basic statistics\n",
    "\n",
    "https://pandas.pydata.org/pandas-docs/stable/reference/api/pandas.DataFrame.html"
   ]
  },
  {
   "cell_type": "code",
   "execution_count": 4,
   "metadata": {
    "pycharm": {
     "name": "#%%\n"
    }
   },
   "outputs": [
    {
     "name": "stdout",
     "output_type": "stream",
     "text": [
      "sepal length (cm)    float64\n",
      "sepal width (cm)     float64\n",
      "petal length (cm)    float64\n",
      "petal width (cm)     float64\n",
      "target                object\n",
      "dtype: object \n",
      "\n",
      "   sepal length (cm)  sepal width (cm)  petal length (cm)  petal width (cm)  \\\n",
      "0                5.1               3.5                1.4               0.2   \n",
      "1                4.9               3.0                1.4               0.2   \n",
      "2                4.7               3.2                1.3               0.2   \n",
      "3                4.6               3.1                1.5               0.2   \n",
      "4                5.0               3.6                1.4               0.2   \n",
      "5                5.4               3.9                1.7               0.4   \n",
      "6                4.6               3.4                1.4               0.3   \n",
      "7                5.0               3.4                1.5               0.2   \n",
      "\n",
      "        target  \n",
      "0  Iris-setosa  \n",
      "1  Iris-setosa  \n",
      "2  Iris-setosa  \n",
      "3  Iris-setosa  \n",
      "4  Iris-setosa  \n",
      "5  Iris-setosa  \n",
      "6  Iris-setosa  \n",
      "7  Iris-setosa   \n",
      "\n",
      "0    5.1\n",
      "1    4.9\n",
      "2    4.7\n",
      "3    4.6\n",
      "4    5.0\n",
      "5    5.4\n",
      "6    4.6\n",
      "7    5.0\n",
      "Name: sepal length (cm), dtype: float64\n"
     ]
    },
    {
     "data": {
      "text/plain": "     sepal length (cm)  sepal width (cm)  petal length (cm)  petal width (cm)  \\\n0                  5.1               3.5                1.4               0.2   \n1                  4.9               3.0                1.4               0.2   \n2                  4.7               3.2                1.3               0.2   \n3                  4.6               3.1                1.5               0.2   \n4                  5.0               3.6                1.4               0.2   \n..                 ...               ...                ...               ...   \n145                6.7               3.0                5.2               2.3   \n146                6.3               2.5                5.0               1.9   \n147                6.5               3.0                5.2               2.0   \n148                6.2               3.4                5.4               2.3   \n149                5.9               3.0                5.1               1.8   \n\n             target  \n0       Iris-setosa  \n1       Iris-setosa  \n2       Iris-setosa  \n3       Iris-setosa  \n4       Iris-setosa  \n..              ...  \n145  Iris-virginica  \n146  Iris-virginica  \n147  Iris-virginica  \n148  Iris-virginica  \n149  Iris-virginica  \n\n[150 rows x 5 columns]",
      "text/html": "<div>\n<style scoped>\n    .dataframe tbody tr th:only-of-type {\n        vertical-align: middle;\n    }\n\n    .dataframe tbody tr th {\n        vertical-align: top;\n    }\n\n    .dataframe thead th {\n        text-align: right;\n    }\n</style>\n<table border=\"1\" class=\"dataframe\">\n  <thead>\n    <tr style=\"text-align: right;\">\n      <th></th>\n      <th>sepal length (cm)</th>\n      <th>sepal width (cm)</th>\n      <th>petal length (cm)</th>\n      <th>petal width (cm)</th>\n      <th>target</th>\n    </tr>\n  </thead>\n  <tbody>\n    <tr>\n      <th>0</th>\n      <td>5.1</td>\n      <td>3.5</td>\n      <td>1.4</td>\n      <td>0.2</td>\n      <td>Iris-setosa</td>\n    </tr>\n    <tr>\n      <th>1</th>\n      <td>4.9</td>\n      <td>3.0</td>\n      <td>1.4</td>\n      <td>0.2</td>\n      <td>Iris-setosa</td>\n    </tr>\n    <tr>\n      <th>2</th>\n      <td>4.7</td>\n      <td>3.2</td>\n      <td>1.3</td>\n      <td>0.2</td>\n      <td>Iris-setosa</td>\n    </tr>\n    <tr>\n      <th>3</th>\n      <td>4.6</td>\n      <td>3.1</td>\n      <td>1.5</td>\n      <td>0.2</td>\n      <td>Iris-setosa</td>\n    </tr>\n    <tr>\n      <th>4</th>\n      <td>5.0</td>\n      <td>3.6</td>\n      <td>1.4</td>\n      <td>0.2</td>\n      <td>Iris-setosa</td>\n    </tr>\n    <tr>\n      <th>...</th>\n      <td>...</td>\n      <td>...</td>\n      <td>...</td>\n      <td>...</td>\n      <td>...</td>\n    </tr>\n    <tr>\n      <th>145</th>\n      <td>6.7</td>\n      <td>3.0</td>\n      <td>5.2</td>\n      <td>2.3</td>\n      <td>Iris-virginica</td>\n    </tr>\n    <tr>\n      <th>146</th>\n      <td>6.3</td>\n      <td>2.5</td>\n      <td>5.0</td>\n      <td>1.9</td>\n      <td>Iris-virginica</td>\n    </tr>\n    <tr>\n      <th>147</th>\n      <td>6.5</td>\n      <td>3.0</td>\n      <td>5.2</td>\n      <td>2.0</td>\n      <td>Iris-virginica</td>\n    </tr>\n    <tr>\n      <th>148</th>\n      <td>6.2</td>\n      <td>3.4</td>\n      <td>5.4</td>\n      <td>2.3</td>\n      <td>Iris-virginica</td>\n    </tr>\n    <tr>\n      <th>149</th>\n      <td>5.9</td>\n      <td>3.0</td>\n      <td>5.1</td>\n      <td>1.8</td>\n      <td>Iris-virginica</td>\n    </tr>\n  </tbody>\n</table>\n<p>150 rows × 5 columns</p>\n</div>"
     },
     "metadata": {},
     "output_type": "display_data"
    }
   ],
   "source": [
    "# the pandas dataframe already takes care for mixed data types\n",
    "iris_data_pd = pd.read_csv(iris_file, names=iris_names_input)\n",
    "\n",
    "print(iris_data_pd.dtypes, \"\\n\")\n",
    "print(iris_data_pd[:8], \"\\n\")\n",
    "print(iris_data_pd['sepal length (cm)'][:8])\n",
    "\n",
    "# pandas dataframe can be displayed nicely with jupyter\n",
    "display(iris_data_pd)\n"
   ]
  },
  {
   "cell_type": "markdown",
   "source": [
    "#### Analyse data with scipy\n",
    "\n",
    "Optional Task: explore subpackages in scipy to explore\n",
    "\n",
    "https://docs.scipy.org/doc/scipy/reference/"
   ],
   "metadata": {
    "collapsed": false
   }
  },
  {
   "cell_type": "code",
   "execution_count": 5,
   "outputs": [
    {
     "name": "stdout",
     "output_type": "stream",
     "text": [
      "DescribeResult(nobs=150, minmax=(array([4.3, 2. , 1. , 0.1]), array([7.9, 4.4, 6.9, 2.5])), mean=array([5.84333333, 3.054     , 3.75866667, 1.19866667]), variance=array([0.68569351, 0.18800403, 3.11317942, 0.58241432]), skewness=array([ 0.31175306,  0.33070281, -0.27171195, -0.10394367]), kurtosis=array([-0.57356795,  0.2414433 , -1.3953593 , -1.33524564]))\n",
      "0.3117530585022963\n",
      "0.330702812773315\n"
     ]
    }
   ],
   "source": [
    "print(scp.stats.describe(iris_data_np_inputs))\n",
    "print(scp.stats.skew(iris_data_np_inputs[:,0]))\n",
    "print(scp.stats.skew(iris_data_np_inputs[:,1]))\n"
   ],
   "metadata": {
    "collapsed": false,
    "pycharm": {
     "name": "#%%\n"
    }
   }
  },
  {
   "cell_type": "markdown",
   "metadata": {},
   "source": [
    "#### Plot with matplotlib\n",
    "\n",
    "Optional Task: briefly inspect different options for visualisations with matplotlib,\n",
    "create a fig that compares all combinations of variables in scatter poly \n",
    "using six subplots\n",
    "\n",
    "https://matplotlib.org/3.3.3/gallery/index.html"
   ]
  },
  {
   "cell_type": "code",
   "execution_count": 6,
   "metadata": {
    "pycharm": {
     "name": "#%%\n"
    }
   },
   "outputs": [
    {
     "data": {
      "text/plain": "<matplotlib.legend.Legend at 0x1ffd2ff8fd0>"
     },
     "execution_count": 6,
     "metadata": {},
     "output_type": "execute_result"
    },
    {
     "data": {
      "text/plain": "<Figure size 432x288 with 1 Axes>",
      "image/png": "[encoded data removed]"
     },
     "metadata": {
      "needs_background": "light"
     },
     "output_type": "display_data"
    }
   ],
   "source": [
    "fig_m, ax_m = plt.subplots()\n",
    "m_colors = ['blue','orange','green']\n",
    "m_x = iris_data_np_inputs[:,0]\n",
    "m_y = iris_data_np_inputs[:,1]\n",
    "m_t = [m_colors[t] for t in iris_data_np_targets_ids]\n",
    "ax_m.scatter(m_x, m_y, c=m_t, s=15.0)\n",
    "# legends are a sometimes complicated (\"hacky\") as well:\n",
    "fake_line = [plt.Line2D([0,0],[0,0],color=color, marker='o', linestyle='') \n",
    "             for color in set(m_t)]\n",
    "ax_m.legend(fake_line, iris_classes)\n"
   ]
  },
  {
   "cell_type": "markdown",
   "metadata": {},
   "source": [
    "#### Plot with seaborn\n",
    "\n",
    "Optional Task: inspect plotting options in seaborn, and get familiar with controlling\n",
    "the output graphs by modifying: appearances (colormaps, symbols) and \n",
    "information (legends, axis labels)\n",
    "https://seaborn.pydata.org/examples/index.html"
   ]
  },
  {
   "cell_type": "code",
   "execution_count": 7,
   "metadata": {
    "pycharm": {
     "name": "#%%\n"
    }
   },
   "outputs": [
    {
     "data": {
      "text/plain": "<Figure size 432x288 with 1 Axes>",
      "image/png": "[encoded data removed]"
     },
     "metadata": {
      "needs_background": "light"
     },
     "output_type": "display_data"
    }
   ],
   "source": [
    "p_x = iris_data_pd['sepal length (cm)']\n",
    "p_y = iris_data_pd['sepal width (cm)']\n",
    "p_t = iris_data_pd['target']\n",
    "ax_m = sns.scatterplot(x=p_x, y=p_y, hue=p_t)\n"
   ]
  }
 ],
 "metadata": {
  "kernelspec": {
   "display_name": "Python 3",
   "language": "python",
   "name": "python3"
  },
  "language_info": {
   "codemirror_mode": {
    "name": "ipython",
    "version": 3
   },
   "file_extension": ".py",
   "mimetype": "text/x-python",
   "name": "python",
   "nbconvert_exporter": "python",
   "pygments_lexer": "ipython3",
   "version": "3.6.8"
  }
 },
 "nbformat": 4,
 "nbformat_minor": 1
}